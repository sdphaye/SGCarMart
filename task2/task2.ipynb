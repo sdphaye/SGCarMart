{
 "cells": [
  {
   "cell_type": "markdown",
   "id": "742eb18a",
   "metadata": {},
   "source": [
    "# Task 2: Recommendation Engine - Skeleton Notebook\n",
    "\n",
    "This notebook provides a very basic example for the notebook you are expected to submit for Task 2 of the Final Project. The main purpose is that we can try different examples to get a better sense of your approach. Compared to Task 1 (Kaggle Competition), we don't have any objective means to evaluate the recommendations. \n",
    "\n",
    "Some general comments:\n",
    "* You can import any data you need. This particularly includes your cleaned version of the Used Cars dataset; there's no need to show the data cleaning / preprocessing steps in this notebook.\n",
    "* You can also import your code in form of external Python (.py) script. You're actually encouraged to do so to keep this notebook light and uncluttered.\n",
    "* Please consider this notebook as an example and not to set specific requirements. As long there is a section where we can easily test your solution, it should be fine."
   ]
  },
  {
   "cell_type": "markdown",
   "id": "7695c39b",
   "metadata": {},
   "source": [
    "## Setting up the Notebook"
   ]
  },
  {
   "cell_type": "code",
   "execution_count": 1,
   "id": "d3b62448",
   "metadata": {},
   "outputs": [],
   "source": [
    "import numpy as np\n",
    "import pandas as pd\n",
    "from pandarallel import pandarallel"
   ]
  },
  {
   "cell_type": "code",
   "execution_count": 2,
   "id": "d050016a",
   "metadata": {},
   "outputs": [],
   "source": [
    "%%capture\n",
    "cd .."
   ]
  },
  {
   "cell_type": "code",
   "execution_count": 3,
   "id": "c7cf4fc6",
   "metadata": {},
   "outputs": [],
   "source": [
    "import cleaner\n",
    "import constants as const\n",
    "import similarity as sim\n",
    "import utils\n",
    "import item_filters as itf"
   ]
  },
  {
   "cell_type": "code",
   "execution_count": 4,
   "id": "8d20742b",
   "metadata": {},
   "outputs": [
    {
     "name": "stdout",
     "output_type": "stream",
     "text": [
      "INFO: Pandarallel will run on 12 workers.\n",
      "INFO: Pandarallel will use standard multiprocessing data transfer (pipe) to transfer data between the main process and workers.\n"
     ]
    }
   ],
   "source": [
    "pandarallel.initialize()"
   ]
  },
  {
   "cell_type": "code",
   "execution_count": 5,
   "id": "30dfe956",
   "metadata": {},
   "outputs": [],
   "source": [
    "df_train_raw = pd.read_csv(const.TRAIN_PATH)\n",
    "df_train = cleaner.clean_preliminary(df_train_raw)"
   ]
  },
  {
   "cell_type": "markdown",
   "id": "fd53bb51",
   "metadata": {},
   "source": [
    "## Load the Data\n",
    "\n",
    "For this example, we use a simplified version of the dataset with only 100 data sample, each with only 6 features"
   ]
  },
  {
   "cell_type": "code",
   "execution_count": 6,
   "id": "e24afd03",
   "metadata": {
    "scrolled": true
   },
   "outputs": [
    {
     "data": {
      "text/html": [
       "<div>\n",
       "<style scoped>\n",
       "    .dataframe tbody tr th:only-of-type {\n",
       "        vertical-align: middle;\n",
       "    }\n",
       "\n",
       "    .dataframe tbody tr th {\n",
       "        vertical-align: top;\n",
       "    }\n",
       "\n",
       "    .dataframe thead th {\n",
       "        text-align: right;\n",
       "    }\n",
       "</style>\n",
       "<table border=\"1\" class=\"dataframe\">\n",
       "  <thead>\n",
       "    <tr style=\"text-align: right;\">\n",
       "      <th></th>\n",
       "      <th>index</th>\n",
       "      <th>listing_id</th>\n",
       "      <th>make</th>\n",
       "      <th>power</th>\n",
       "      <th>engine_cap</th>\n",
       "      <th>mileage</th>\n",
       "      <th>price</th>\n",
       "    </tr>\n",
       "  </thead>\n",
       "  <tbody>\n",
       "    <tr>\n",
       "      <th>0</th>\n",
       "      <td>0</td>\n",
       "      <td>1006025</td>\n",
       "      <td>bmw</td>\n",
       "      <td>135.0</td>\n",
       "      <td>1997.0</td>\n",
       "      <td>NaN</td>\n",
       "      <td>82300</td>\n",
       "    </tr>\n",
       "    <tr>\n",
       "      <th>1</th>\n",
       "      <td>1</td>\n",
       "      <td>994672</td>\n",
       "      <td>land rover</td>\n",
       "      <td>202.0</td>\n",
       "      <td>2993.0</td>\n",
       "      <td>25843.0</td>\n",
       "      <td>427900</td>\n",
       "    </tr>\n",
       "    <tr>\n",
       "      <th>2</th>\n",
       "      <td>2</td>\n",
       "      <td>921142</td>\n",
       "      <td>honda</td>\n",
       "      <td>95.6</td>\n",
       "      <td>1496.0</td>\n",
       "      <td>2000.0</td>\n",
       "      <td>109800</td>\n",
       "    </tr>\n",
       "    <tr>\n",
       "      <th>3</th>\n",
       "      <td>3</td>\n",
       "      <td>1008328</td>\n",
       "      <td>bmw</td>\n",
       "      <td>185.0</td>\n",
       "      <td>1998.0</td>\n",
       "      <td>57386.0</td>\n",
       "      <td>166600</td>\n",
       "    </tr>\n",
       "    <tr>\n",
       "      <th>4</th>\n",
       "      <td>4</td>\n",
       "      <td>1010661</td>\n",
       "      <td>NaN</td>\n",
       "      <td>96.0</td>\n",
       "      <td>1498.0</td>\n",
       "      <td>76000.0</td>\n",
       "      <td>59400</td>\n",
       "    </tr>\n",
       "  </tbody>\n",
       "</table>\n",
       "</div>"
      ],
      "text/plain": [
       "   index  listing_id        make  power  engine_cap  mileage   price\n",
       "0      0     1006025         bmw  135.0      1997.0      NaN   82300\n",
       "1      1      994672  land rover  202.0      2993.0  25843.0  427900\n",
       "2      2      921142       honda   95.6      1496.0   2000.0  109800\n",
       "3      3     1008328         bmw  185.0      1998.0  57386.0  166600\n",
       "4      4     1010661         NaN   96.0      1498.0  76000.0   59400"
      ]
     },
     "execution_count": 6,
     "metadata": {},
     "output_type": "execute_result"
    }
   ],
   "source": [
    "df_sample_raw = pd.read_csv(const.USED_CARS_SIMPLIFIED_PATH)\n",
    "df_sample = cleaner.clean_preliminary(df_sample_raw)\n",
    "df_sample.head()"
   ]
  },
  {
   "cell_type": "code",
   "execution_count": 7,
   "id": "6eb6e495",
   "metadata": {},
   "outputs": [],
   "source": [
    "COLS_TO_SHOW = [\n",
    "    'listing_id',\n",
    "    'title',\n",
    "    'make',\n",
    "    'power',\n",
    "    'engine_cap',\n",
    "    'mileage',\n",
    "    'price',\n",
    "    'model',\n",
    "    'description',\n",
    "    'fuel_type',\n",
    "    'accessories',\n",
    "    'car_age',\n",
    "]"
   ]
  },
  {
   "cell_type": "markdown",
   "id": "ef2447a9",
   "metadata": {},
   "source": [
    "## Computing the Top Recommendations\n",
    "\n",
    "The method `get_top_recommendations()` shows an example of how to get the top recommendations for a given data sample (data sample = row in the dataframe of the dataset). The input is a row from the dataset and a list of optional input parameters which will depend on your approach; `k` is the number of returned recommendations seems useful, though.\n",
    "\n",
    "The output should be a `pd.DataFrame` containing the recommendations. The output dataframe should have the same columns as the row + any additional columns you deem important (e.g., any score or tags that you might want to add to your recommendations).\n",
    "\n",
    "In principle, the method `get_top_recommendations()` may be imported from a external Python (.py) script as well."
   ]
  },
  {
   "cell_type": "code",
   "execution_count": 8,
   "id": "3164dbe9",
   "metadata": {},
   "outputs": [],
   "source": [
    "DEFAULT_K = 10\n",
    "DEFAULT_NOISE_LEVEL = 0.05\n",
    "cache = {}\n",
    "\n",
    "\n",
    "def get_top_recommendations(row, **kwargs) -> pd.DataFrame:\n",
    "    #####################################################\n",
    "    ## Initialize the required parameters\n",
    "    \n",
    "    # The number of recommendations seem recommended\n",
    "    # Additional input parameters are up to you\n",
    "    k = kwargs.get('k', DEFAULT_K)\n",
    "    noise_level = kwargs.get('noise_level', DEFAULT_NOISE_LEVEL)\n",
    "    user_id = kwargs.get('user_id', None)\n",
    "    user_pref = USER_PREFERENCES.get(user_id, {})\n",
    "    assert k >= 1, 'k should be >= 1'\n",
    "    assert noise_level >= 0.0, 'noise should not be negative'\n",
    "    assert user_id is None or user_id in USER_PREFERENCES, \\\n",
    "        f'User ID not found, try one of {list(USER_PREFERENCES.keys())} or None'\n",
    "    #####################################################\n",
    "    # Get listing id similarity from cache if present, otherwise compute from scratch\n",
    "    if row.listing_id in cache:\n",
    "        sim_df = cache[row.listing_id]\n",
    "    else:\n",
    "        sim_df = sim.compute_similarities(pd.DataFrame([row]), df_train, is_test=True)\n",
    "        cache[row.listing_id] = sim_df\n",
    "\n",
    "    # Make noise similarity DataFrame\n",
    "    noise = np.random.uniform(-noise_level, noise_level, size=len(df_train))\n",
    "    sim_df_noisy = sim_df + noise\n",
    "    \n",
    "    # Get most similar\n",
    "    most_similar_indices = np.argsort(-sim_df_noisy, axis=1).iloc[0]\n",
    "    df_most_similar = df_train.iloc[most_similar_indices]\n",
    "    \n",
    "    # Filter based on user preferences (if any) and original listing id\n",
    "    df_user = itf.filter_on_user_pref(user_pref, df_most_similar)\n",
    "    df_result = df_user[df_user.listing_id != row.listing_id]\n",
    "\n",
    "    # Return the dataset with the k recommendations\n",
    "    return df_result.head(k)"
   ]
  },
  {
   "cell_type": "markdown",
   "id": "9c6d9d02",
   "metadata": {},
   "source": [
    "## Testing the Recommendation Engine\n",
    "\n",
    "This will be the main part of your notebook to allow for testing your solutions. Most basically, for a given listing (defined by the row id in your input dataframe), we would like to see the recommendations you make. So however you set up your notebook, it should have at least a comparable section that will allow us to run your solution for different inputs."
   ]
  },
  {
   "cell_type": "markdown",
   "id": "1517273f",
   "metadata": {},
   "source": [
    "### Define User Preferences\n",
    "\n",
    "Below, we define a user preferences dictionary where the key is the user id and the item is a dictionary of column-filter pairs specifying the item filter the user wants to apply for a given column.\n",
    "\n",
    "It is assumed that if a user specifies some preferences, they *only* want to see cars that fullfill their preferences - i.e., we can do raw filtering based on their preferences.\n",
    "\n",
    "The following item filters are available: \n",
    "* `RegexFilter(pattern: str)`\n",
    "* `NumericalFilter(min_value: Optional[Number], max_value: Optional[Number])`\n",
    "* `SetFilter(values: Set[Any])`\n",
    "* `NotFilter(item_filter: ItemFilter)`"
   ]
  },
  {
   "cell_type": "code",
   "execution_count": 9,
   "id": "51b07282",
   "metadata": {},
   "outputs": [],
   "source": [
    "USER_PREFERENCES = {\n",
    "    1: {\n",
    "        'accessories': itf.RegexFilter(r'bluetooth'),\n",
    "        'price': itf.NumericalFilter(max_value=110_000)\n",
    "    },\n",
    "    2: {\n",
    "        'accessories': itf.RegexFilter(r'leather'),\n",
    "        'car_age': itf.NumericalFilter(1, 3),\n",
    "        'price': itf.NumericalFilter(min_value=50_000)\n",
    "    }\n",
    "}"
   ]
  },
  {
   "cell_type": "markdown",
   "id": "35fafc24",
   "metadata": {},
   "source": [
    "### Pick a Sample Listing as Input"
   ]
  },
  {
   "cell_type": "code",
   "execution_count": 10,
   "id": "8b42b1d3",
   "metadata": {},
   "outputs": [
    {
     "data": {
      "text/html": [
       "<div>\n",
       "<style scoped>\n",
       "    .dataframe tbody tr th:only-of-type {\n",
       "        vertical-align: middle;\n",
       "    }\n",
       "\n",
       "    .dataframe tbody tr th {\n",
       "        vertical-align: top;\n",
       "    }\n",
       "\n",
       "    .dataframe thead th {\n",
       "        text-align: right;\n",
       "    }\n",
       "</style>\n",
       "<table border=\"1\" class=\"dataframe\">\n",
       "  <thead>\n",
       "    <tr style=\"text-align: right;\">\n",
       "      <th></th>\n",
       "      <th>index</th>\n",
       "      <th>listing_id</th>\n",
       "      <th>make</th>\n",
       "      <th>power</th>\n",
       "      <th>engine_cap</th>\n",
       "      <th>mileage</th>\n",
       "      <th>price</th>\n",
       "    </tr>\n",
       "  </thead>\n",
       "  <tbody>\n",
       "    <tr>\n",
       "      <th>30</th>\n",
       "      <td>30</td>\n",
       "      <td>1019460</td>\n",
       "      <td>toyota</td>\n",
       "      <td>125.0</td>\n",
       "      <td>2362.0</td>\n",
       "      <td>28126.0</td>\n",
       "      <td>137300</td>\n",
       "    </tr>\n",
       "  </tbody>\n",
       "</table>\n",
       "</div>"
      ],
      "text/plain": [
       "    index  listing_id    make  power  engine_cap  mileage   price\n",
       "30     30     1019460  toyota  125.0      2362.0  28126.0  137300"
      ]
     },
     "execution_count": 10,
     "metadata": {},
     "output_type": "execute_result"
    }
   ],
   "source": [
    "# Pick a row id of choice\n",
    "#row_id = 10\n",
    "#row_id = 20\n",
    "row_id = 30\n",
    "#row_id = 40\n",
    "#row_id = 50\n",
    "\n",
    "row = df_sample.iloc[row_id]\n",
    "pd.DataFrame([row])"
   ]
  },
  {
   "cell_type": "markdown",
   "id": "229e5eb7",
   "metadata": {},
   "source": [
    "## Compute and Display the recommendations\n",
    "\n",
    "Since the method `get_top_recommendations()` returns a `pd.DataFrame`, it's easy to display the result."
   ]
  },
  {
   "cell_type": "code",
   "execution_count": 11,
   "id": "7e7a3b37",
   "metadata": {},
   "outputs": [
    {
     "data": {
      "text/html": [
       "<div>\n",
       "<style scoped>\n",
       "    .dataframe tbody tr th:only-of-type {\n",
       "        vertical-align: middle;\n",
       "    }\n",
       "\n",
       "    .dataframe tbody tr th {\n",
       "        vertical-align: top;\n",
       "    }\n",
       "\n",
       "    .dataframe thead th {\n",
       "        text-align: right;\n",
       "    }\n",
       "</style>\n",
       "<table border=\"1\" class=\"dataframe\">\n",
       "  <thead>\n",
       "    <tr style=\"text-align: right;\">\n",
       "      <th></th>\n",
       "      <th>listing_id</th>\n",
       "      <th>title</th>\n",
       "      <th>make</th>\n",
       "      <th>power</th>\n",
       "      <th>engine_cap</th>\n",
       "      <th>mileage</th>\n",
       "      <th>price</th>\n",
       "      <th>model</th>\n",
       "      <th>description</th>\n",
       "      <th>fuel_type</th>\n",
       "      <th>accessories</th>\n",
       "      <th>car_age</th>\n",
       "    </tr>\n",
       "  </thead>\n",
       "  <tbody>\n",
       "    <tr>\n",
       "      <th>14344</th>\n",
       "      <td>1025806</td>\n",
       "      <td>Toyota Alphard 2.4A (New 10-yr COE)</td>\n",
       "      <td>toyota</td>\n",
       "      <td>125.0</td>\n",
       "      <td>2362.0</td>\n",
       "      <td>96800.0</td>\n",
       "      <td>103200</td>\n",
       "      <td>alphard</td>\n",
       "      <td>1 owner unit serviced with borneo motors since...</td>\n",
       "      <td>petrol</td>\n",
       "      <td>reverse camera, bluetooth, dual power sliding ...</td>\n",
       "      <td>11.0</td>\n",
       "    </tr>\n",
       "    <tr>\n",
       "      <th>7792</th>\n",
       "      <td>1008272</td>\n",
       "      <td>Toyota Vios 1.5A G</td>\n",
       "      <td>toyota</td>\n",
       "      <td>79.0</td>\n",
       "      <td>1496.0</td>\n",
       "      <td>39800.0</td>\n",
       "      <td>81300</td>\n",
       "      <td>vios</td>\n",
       "      <td>beautiful grey. agent maintained. car still un...</td>\n",
       "      <td>petrol</td>\n",
       "      <td>high g specs with gps/bluetooth/dvd function w...</td>\n",
       "      <td>2.0</td>\n",
       "    </tr>\n",
       "    <tr>\n",
       "      <th>12590</th>\n",
       "      <td>910038</td>\n",
       "      <td>Toyota Harrier 2.0A Elegance Panoramic</td>\n",
       "      <td>toyota</td>\n",
       "      <td>111.0</td>\n",
       "      <td>1986.0</td>\n",
       "      <td>83100.0</td>\n",
       "      <td>92200</td>\n",
       "      <td>harrier</td>\n",
       "      <td>first owner unit! interest rate 2.48% only! se...</td>\n",
       "      <td>petrol</td>\n",
       "      <td>reverse camera, navi, bluetooth, dual zone aut...</td>\n",
       "      <td>5.0</td>\n",
       "    </tr>\n",
       "    <tr>\n",
       "      <th>9805</th>\n",
       "      <td>1021396</td>\n",
       "      <td>Toyota Prius Hybrid 1.8A S</td>\n",
       "      <td>toyota</td>\n",
       "      <td>90.0</td>\n",
       "      <td>1797.0</td>\n",
       "      <td>45000.0</td>\n",
       "      <td>80100</td>\n",
       "      <td>prius</td>\n",
       "      <td>1 owner only. low mileage. the prius is the mo...</td>\n",
       "      <td>petrol-electric</td>\n",
       "      <td>touch screen audio with bluetooth phone/audio ...</td>\n",
       "      <td>5.0</td>\n",
       "    </tr>\n",
       "    <tr>\n",
       "      <th>16116</th>\n",
       "      <td>1007931</td>\n",
       "      <td>Toyota Harrier 2.0A Premium Panoramic</td>\n",
       "      <td>toyota</td>\n",
       "      <td>111.0</td>\n",
       "      <td>1986.0</td>\n",
       "      <td>85888.0</td>\n",
       "      <td>75900</td>\n",
       "      <td>harrier</td>\n",
       "      <td>selling the cheapest and best condition harrie...</td>\n",
       "      <td>petrol</td>\n",
       "      <td>panoramic sunroof. premium upholstery electric...</td>\n",
       "      <td>6.0</td>\n",
       "    </tr>\n",
       "  </tbody>\n",
       "</table>\n",
       "</div>"
      ],
      "text/plain": [
       "       listing_id                                   title    make  power  \\\n",
       "14344     1025806     Toyota Alphard 2.4A (New 10-yr COE)  toyota  125.0   \n",
       "7792      1008272                      Toyota Vios 1.5A G  toyota   79.0   \n",
       "12590      910038  Toyota Harrier 2.0A Elegance Panoramic  toyota  111.0   \n",
       "9805      1021396              Toyota Prius Hybrid 1.8A S  toyota   90.0   \n",
       "16116     1007931   Toyota Harrier 2.0A Premium Panoramic  toyota  111.0   \n",
       "\n",
       "       engine_cap  mileage   price    model  \\\n",
       "14344      2362.0  96800.0  103200  alphard   \n",
       "7792       1496.0  39800.0   81300     vios   \n",
       "12590      1986.0  83100.0   92200  harrier   \n",
       "9805       1797.0  45000.0   80100    prius   \n",
       "16116      1986.0  85888.0   75900  harrier   \n",
       "\n",
       "                                             description        fuel_type  \\\n",
       "14344  1 owner unit serviced with borneo motors since...           petrol   \n",
       "7792   beautiful grey. agent maintained. car still un...           petrol   \n",
       "12590  first owner unit! interest rate 2.48% only! se...           petrol   \n",
       "9805   1 owner only. low mileage. the prius is the mo...  petrol-electric   \n",
       "16116  selling the cheapest and best condition harrie...           petrol   \n",
       "\n",
       "                                             accessories  car_age  \n",
       "14344  reverse camera, bluetooth, dual power sliding ...     11.0  \n",
       "7792   high g specs with gps/bluetooth/dvd function w...      2.0  \n",
       "12590  reverse camera, navi, bluetooth, dual zone aut...      5.0  \n",
       "9805   touch screen audio with bluetooth phone/audio ...      5.0  \n",
       "16116  panoramic sunroof. premium upholstery electric...      6.0  "
      ]
     },
     "execution_count": 11,
     "metadata": {},
     "output_type": "execute_result"
    }
   ],
   "source": [
    "# Number of similar rows to show\n",
    "k = 5\n",
    "\n",
    "# Noise level. The higher, the more noise the suggestions. If noise_level=0, then\n",
    "# get_top_recommendations becomes deterministic\n",
    "noise_level = 2.0\n",
    "\n",
    "# Optional user id. Should be either None or an existing user_id - {1, 2} already defined\n",
    "user_id = 1\n",
    "\n",
    "df_recommendations = get_top_recommendations(row, k=k, noise_level=noise_level, user_id=user_id)\n",
    "df_recommendations[COLS_TO_SHOW]"
   ]
  },
  {
   "cell_type": "code",
   "execution_count": null,
   "id": "6946e4e2",
   "metadata": {},
   "outputs": [],
   "source": []
  }
 ],
 "metadata": {
  "kernelspec": {
   "display_name": "Python 3 (ipykernel)",
   "language": "python",
   "name": "python3"
  },
  "language_info": {
   "codemirror_mode": {
    "name": "ipython",
    "version": 3
   },
   "file_extension": ".py",
   "mimetype": "text/x-python",
   "name": "python",
   "nbconvert_exporter": "python",
   "pygments_lexer": "ipython3",
   "version": "3.7.2"
  }
 },
 "nbformat": 4,
 "nbformat_minor": 5
}
