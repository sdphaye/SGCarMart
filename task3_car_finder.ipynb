{
 "cells": [
  {
   "cell_type": "markdown",
   "metadata": {},
   "source": [
    "# Car Finder Engine"
   ]
  },
  {
   "cell_type": "markdown",
   "metadata": {},
   "source": [
    "### Setup\n",
    "\n",
    "Import packages, read train data and embeddings"
   ]
  },
  {
   "cell_type": "code",
   "execution_count": 1,
   "metadata": {},
   "outputs": [],
   "source": [
    "from typing import List\n",
    "\n",
    "import numpy as np\n",
    "import pandas as pd\n",
    "from sentence_transformers import SentenceTransformer\n",
    "\n",
    "import cleaner\n",
    "import constants as const\n",
    "from generate_sentence_embeddings import preprocess_title"
   ]
  },
  {
   "cell_type": "code",
   "execution_count": 2,
   "metadata": {},
   "outputs": [],
   "source": [
    "df_train_raw = pd.read_csv(const.TRAIN_PATH)\n",
    "df_train = cleaner.clean_preliminary(df_train_raw)\n",
    "df_train['title_lower'] = df_train.title.apply(preprocess_title)"
   ]
  },
  {
   "cell_type": "markdown",
   "metadata": {},
   "source": [
    "Setup and instantiate `CarFinder` class"
   ]
  },
  {
   "cell_type": "code",
   "execution_count": 3,
   "metadata": {},
   "outputs": [],
   "source": [
    "class CarFinder():\n",
    "    def __init__(self):\n",
    "        embedding_dict = np.load(const.TITLE_EMBEDDING_DICT_PATH, allow_pickle=True).item()\n",
    "        self.title_embeddings = embedding_dict['title_embeddings']\n",
    "        self.title_norm_array = np.linalg.norm(self.title_embeddings, axis=1)\n",
    "        self.index_to_title_dict = embedding_dict['index_to_title_dict']\n",
    "        self.encoder = SentenceTransformer('paraphrase-MiniLM-L6-v2')\n",
    "\n",
    "    def query_titles(self, query: str, k: int = 5) -> List[str]:\n",
    "        \"\"\"\n",
    "        Takes a query string as input and returns a list of the `k` titles with the\n",
    "        most similar sentence embedding\n",
    "        \"\"\"\n",
    "        query_embedding = self.encoder.encode([query]).squeeze()\n",
    "        raw_sim_score = self.title_embeddings @ query_embedding\n",
    "        normalizer = self.title_norm_array * np.linalg.norm(query_embedding)\n",
    "        sim_scores = raw_sim_score / normalizer\n",
    "        title_indices = sim_scores.argsort()[:k]\n",
    "        titles = [self.index_to_title_dict[idx] for idx in title_indices]\n",
    "        return titles\n",
    "\n",
    "    def query_listings(self, query: str, k: int = 5) -> pd.DataFrame:\n",
    "        \"\"\"\n",
    "        Takes a query string as input and returns a DataFrame of the `k` listings\n",
    "        with the most similar sentence embedding\n",
    "        \"\"\"\n",
    "        titles = self.query_titles(query, k)\n",
    "        df = df_train[df_train.title_lower.isin(titles)]\n",
    "        ordering = {title: i for i, title in enumerate(titles)}\n",
    "        df = df.sort_values(by=['title_lower'], key=lambda title: title.map(ordering))\n",
    "        return df.head(k)\n",
    "\n",
    "\n",
    "car_finder = CarFinder()"
   ]
  },
  {
   "cell_type": "markdown",
   "metadata": {},
   "source": [
    "## Running Queries\n",
    "\n",
    "Query the data. You can search for either just titles with `query_titles` or use `query_listings` to get listings in the form of a DataFrame"
   ]
  },
  {
   "cell_type": "code",
   "execution_count": 4,
   "metadata": {},
   "outputs": [],
   "source": [
    "search_str = 'auto retractable side mirrors, multi-function steering controls'"
   ]
  },
  {
   "cell_type": "markdown",
   "metadata": {},
   "source": [
    "Raw titles"
   ]
  },
  {
   "cell_type": "code",
   "execution_count": 5,
   "metadata": {},
   "outputs": [
    {
     "name": "stdout",
     "output_type": "stream",
     "text": [
      "maserati granturismo cambiocorsa (coe till 09/2029)\n",
      "yutong zk6100h (coe till 05/2029)\n",
      "maserati granturismo s 4.7a (coe till 09/2030)\n",
      "maserati granturismo mc stradale 4.7a (coe till 04/2031)\n",
      "isuzu ftr34p (coe till 06/2023)\n"
     ]
    }
   ],
   "source": [
    "for title in car_finder.query_titles(search_str, k=5):\n",
    "    print(title)"
   ]
  },
  {
   "cell_type": "markdown",
   "metadata": {},
   "source": [
    "Listings"
   ]
  },
  {
   "cell_type": "code",
   "execution_count": 6,
   "metadata": {},
   "outputs": [
    {
     "data": {
      "text/html": [
       "<div>\n",
       "<style scoped>\n",
       "    .dataframe tbody tr th:only-of-type {\n",
       "        vertical-align: middle;\n",
       "    }\n",
       "\n",
       "    .dataframe tbody tr th {\n",
       "        vertical-align: top;\n",
       "    }\n",
       "\n",
       "    .dataframe thead th {\n",
       "        text-align: right;\n",
       "    }\n",
       "</style>\n",
       "<table border=\"1\" class=\"dataframe\">\n",
       "  <thead>\n",
       "    <tr style=\"text-align: right;\">\n",
       "      <th></th>\n",
       "      <th>listing_id</th>\n",
       "      <th>title</th>\n",
       "      <th>description</th>\n",
       "      <th>features</th>\n",
       "      <th>accessories</th>\n",
       "      <th>price</th>\n",
       "    </tr>\n",
       "  </thead>\n",
       "  <tbody>\n",
       "    <tr>\n",
       "      <th>9470</th>\n",
       "      <td>1031009</td>\n",
       "      <td>Maserati GranTurismo Cambiocorsa (COE till 09/...</td>\n",
       "      <td>high loan available. please call for viewing! ...</td>\n",
       "      <td>view specs of the maserati granturismo</td>\n",
       "      <td>UNKNOWN</td>\n",
       "      <td>226500</td>\n",
       "    </tr>\n",
       "    <tr>\n",
       "      <th>802</th>\n",
       "      <td>987627</td>\n",
       "      <td>Yutong ZK6100H (COE till 05/2029)</td>\n",
       "      <td>UNKNOWN</td>\n",
       "      <td>UNKNOWN</td>\n",
       "      <td>UNKNOWN</td>\n",
       "      <td>67100</td>\n",
       "    </tr>\n",
       "    <tr>\n",
       "      <th>11997</th>\n",
       "      <td>1000199</td>\n",
       "      <td>Maserati GranTurismo S 4.7A (COE till 09/2030)</td>\n",
       "      <td>8000</td>\n",
       "      <td>UNKNOWN</td>\n",
       "      <td>20</td>\n",
       "      <td>179300</td>\n",
       "    </tr>\n",
       "    <tr>\n",
       "      <th>8274</th>\n",
       "      <td>1012503</td>\n",
       "      <td>Maserati GranTurismo MC Stradale 4.7A (COE til...</td>\n",
       "      <td>2</td>\n",
       "      <td>UNKNOWN</td>\n",
       "      <td>UNKNOWN</td>\n",
       "      <td>251400</td>\n",
       "    </tr>\n",
       "    <tr>\n",
       "      <th>3876</th>\n",
       "      <td>866523</td>\n",
       "      <td>Isuzu FTR34P (COE till 06/2023)</td>\n",
       "      <td>0% downpayment, laden 16000kg hooklift, excell...</td>\n",
       "      <td>UNKNOWN</td>\n",
       "      <td>UNKNOWN</td>\n",
       "      <td>64700</td>\n",
       "    </tr>\n",
       "  </tbody>\n",
       "</table>\n",
       "</div>"
      ],
      "text/plain": [
       "       listing_id                                              title  \\\n",
       "9470      1031009  Maserati GranTurismo Cambiocorsa (COE till 09/...   \n",
       "802        987627                  Yutong ZK6100H (COE till 05/2029)   \n",
       "11997     1000199     Maserati GranTurismo S 4.7A (COE till 09/2030)   \n",
       "8274      1012503  Maserati GranTurismo MC Stradale 4.7A (COE til...   \n",
       "3876       866523                    Isuzu FTR34P (COE till 06/2023)   \n",
       "\n",
       "                                             description  \\\n",
       "9470   high loan available. please call for viewing! ...   \n",
       "802                                              UNKNOWN   \n",
       "11997                                               8000   \n",
       "8274                                                   2   \n",
       "3876   0% downpayment, laden 16000kg hooklift, excell...   \n",
       "\n",
       "                                     features accessories   price  \n",
       "9470   view specs of the maserati granturismo     UNKNOWN  226500  \n",
       "802                                   UNKNOWN     UNKNOWN   67100  \n",
       "11997                                 UNKNOWN          20  179300  \n",
       "8274                                  UNKNOWN     UNKNOWN  251400  \n",
       "3876                                  UNKNOWN     UNKNOWN   64700  "
      ]
     },
     "execution_count": 6,
     "metadata": {},
     "output_type": "execute_result"
    }
   ],
   "source": [
    "COLS_TO_SHOW = [\n",
    "    'listing_id',\n",
    "    'title',\n",
    "    'description',\n",
    "    'features',\n",
    "    'accessories',\n",
    "    'price'\n",
    "]\n",
    "\n",
    "df = car_finder.query_listings(search_str, k=5)\n",
    "df[COLS_TO_SHOW]"
   ]
  },
  {
   "cell_type": "markdown",
   "metadata": {},
   "source": [
    "Quickly check out the details for a given row returned"
   ]
  },
  {
   "cell_type": "code",
   "execution_count": 7,
   "metadata": {},
   "outputs": [
    {
     "name": "stdout",
     "output_type": "stream",
     "text": [
      "Maserati GranTurismo Cambiocorsa (COE till 09/2029)\n",
      " Description: high loan available. please call for viewing! do contact our friendly sales representative and will attend to you shortly!\n",
      " Features: view specs of the maserati granturismo\n",
      " Acc: UNKNOWN\n"
     ]
    }
   ],
   "source": [
    "# View the content in full for one of the listings\n",
    "row_idx = 9470\n",
    "\n",
    "row = df.loc[row_idx]\n",
    "print(\n",
    "    f'{row.title}\\n',\n",
    "    f'Description: {row.description}\\n',\n",
    "    f'Features: {row.features}\\n',\n",
    "    f'Acc: {row.accessories}'\n",
    ")"
   ]
  },
  {
   "cell_type": "code",
   "execution_count": null,
   "metadata": {},
   "outputs": [],
   "source": []
  }
 ],
 "metadata": {
  "kernelspec": {
   "display_name": "Python 3",
   "language": "python",
   "name": "python3"
  },
  "language_info": {
   "codemirror_mode": {
    "name": "ipython",
    "version": 3
   },
   "file_extension": ".py",
   "mimetype": "text/x-python",
   "name": "python",
   "nbconvert_exporter": "python",
   "pygments_lexer": "ipython3",
   "version": "3.8.5"
  }
 },
 "nbformat": 4,
 "nbformat_minor": 5
}
