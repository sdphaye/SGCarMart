{
 "cells": [
  {
   "cell_type": "markdown",
   "metadata": {},
   "source": [
    "# Car Finder Engine"
   ]
  },
  {
   "cell_type": "markdown",
   "metadata": {},
   "source": [
    "### Setup\n",
    "\n",
    "Import packages, read train data and embeddings"
   ]
  },
  {
   "cell_type": "code",
   "execution_count": 1,
   "metadata": {},
   "outputs": [],
   "source": [
    "from typing import List\n",
    "\n",
    "import numpy as np\n",
    "import pandas as pd\n",
    "from sentence_transformers import SentenceTransformer\n",
    "\n",
    "import cleaner\n",
    "import constants as const\n",
    "from generate_sentence_embeddings import preprocess_title"
   ]
  },
  {
   "cell_type": "code",
   "execution_count": 2,
   "metadata": {},
   "outputs": [],
   "source": [
    "df_train_raw = pd.read_csv(const.TRAIN_PATH)\n",
    "df_train = cleaner.clean_preliminary(df_train_raw)\n",
    "df_train['title_lower'] = df_train.title.apply(preprocess_title)"
   ]
  },
  {
   "cell_type": "markdown",
   "metadata": {},
   "source": [
    "Setup and instantiate `CarFinder` class"
   ]
  },
  {
   "cell_type": "code",
   "execution_count": 3,
   "metadata": {},
   "outputs": [],
   "source": [
    "class CarFinder():\n",
    "    def __init__(self):\n",
    "        embedding_dict = np.load(const.TITLE_EMBEDDING_DICT_PATH, allow_pickle=True).item()\n",
    "        self.title_embeddings = embedding_dict['title_embeddings']\n",
    "        self.title_norm_array = np.linalg.norm(self.title_embeddings, axis=1)\n",
    "        self.index_to_title_dict = embedding_dict['index_to_title_dict']\n",
    "        self.encoder = SentenceTransformer('paraphrase-MiniLM-L6-v2')\n",
    "\n",
    "    def query_titles(self, query: str, k: int = 5) -> List[str]:\n",
    "        \"\"\"\n",
    "        Takes a query string as input and returns a list of the `k` titles with the\n",
    "        most similar sentence embedding\n",
    "        \"\"\"\n",
    "        query_embedding = self.encoder.encode([query]).squeeze()\n",
    "        raw_sim_score = self.title_embeddings @ query_embedding\n",
    "        normalizer = self.title_norm_array * np.linalg.norm(query_embedding)\n",
    "        sim_scores = raw_sim_score / normalizer\n",
    "        title_indices = sim_scores.argsort()[-k:][::-1]\n",
    "        titles = [self.index_to_title_dict[idx] for idx in title_indices]\n",
    "        return titles\n",
    "\n",
    "    def query_listings(self, query: str, k: int = 5) -> pd.DataFrame:\n",
    "        \"\"\"\n",
    "        Takes a query string as input and returns a DataFrame of the `k` listings\n",
    "        with the most similar sentence embedding\n",
    "        \"\"\"\n",
    "        titles = self.query_titles(query, k)\n",
    "        df = df_train[df_train.title_lower.isin(titles)]\n",
    "        ordering = {title: i for i, title in enumerate(titles)}\n",
    "        df = df.sort_values(by=['title_lower'], key=lambda title: title.map(ordering))\n",
    "        return df.head(k)\n",
    "\n",
    "\n",
    "car_finder = CarFinder()"
   ]
  },
  {
   "cell_type": "markdown",
   "metadata": {},
   "source": [
    "## Running Queries\n",
    "\n",
    "Query the data. You can search for either just titles with `query_titles` or use `query_listings` to get listings in the form of a DataFrame"
   ]
  },
  {
   "cell_type": "code",
   "execution_count": 4,
   "metadata": {},
   "outputs": [],
   "source": [
    "search_str = 'auto retractable side mirrors, multi-function steering controls'"
   ]
  },
  {
   "cell_type": "markdown",
   "metadata": {},
   "source": [
    "Raw titles"
   ]
  },
  {
   "cell_type": "code",
   "execution_count": 5,
   "metadata": {},
   "outputs": [
    {
     "name": "stdout",
     "output_type": "stream",
     "text": [
      "toyota wish 1.8a x (coe till 07/2024)\n",
      "audi a3 cabriolet 1.4a tfsi s-tronic attraction\n",
      "honda fit 1.3a g skyroof (coe till 07/2025)\n",
      "volkswagen scirocco 1.4a tsi (coe till 04/2026)\n",
      "volkswagen scirocco 1.4a tsi (coe till 03/2024)\n"
     ]
    }
   ],
   "source": [
    "for title in car_finder.query_titles(search_str, k=5):\n",
    "    print(title)"
   ]
  },
  {
   "cell_type": "markdown",
   "metadata": {},
   "source": [
    "Listings"
   ]
  },
  {
   "cell_type": "code",
   "execution_count": 6,
   "metadata": {},
   "outputs": [
    {
     "data": {
      "text/html": [
       "<div>\n",
       "<style scoped>\n",
       "    .dataframe tbody tr th:only-of-type {\n",
       "        vertical-align: middle;\n",
       "    }\n",
       "\n",
       "    .dataframe tbody tr th {\n",
       "        vertical-align: top;\n",
       "    }\n",
       "\n",
       "    .dataframe thead th {\n",
       "        text-align: right;\n",
       "    }\n",
       "</style>\n",
       "<table border=\"1\" class=\"dataframe\">\n",
       "  <thead>\n",
       "    <tr style=\"text-align: right;\">\n",
       "      <th></th>\n",
       "      <th>listing_id</th>\n",
       "      <th>title</th>\n",
       "      <th>features</th>\n",
       "      <th>accessories</th>\n",
       "    </tr>\n",
       "  </thead>\n",
       "  <tbody>\n",
       "    <tr>\n",
       "      <th>1706</th>\n",
       "      <td>1024611</td>\n",
       "      <td>Toyota Wish 1.8A X (COE till 07/2024)</td>\n",
       "      <td>1.8l dual vvti engine, 140 bhp, 7 speed cvt au...</td>\n",
       "      <td>touchscreen audio system. auto climate control...</td>\n",
       "    </tr>\n",
       "    <tr>\n",
       "      <th>9143</th>\n",
       "      <td>1024200</td>\n",
       "      <td>Audi A3 Cabriolet 1.4A TFSI S-tronic Attraction</td>\n",
       "      <td>1.4l inline 4 cylinder turbocharged engine, 12...</td>\n",
       "      <td>audi mmi radio, bluetooth connectivity, usb. d...</td>\n",
       "    </tr>\n",
       "    <tr>\n",
       "      <th>9088</th>\n",
       "      <td>1016920</td>\n",
       "      <td>Honda Fit 1.3A G Skyroof (COE till 07/2025)</td>\n",
       "      <td>1.3l fuel saver yet powerful 4 cylinders inlin...</td>\n",
       "      <td>leather seats, sports rims, audio player, reve...</td>\n",
       "    </tr>\n",
       "    <tr>\n",
       "      <th>15034</th>\n",
       "      <td>999823</td>\n",
       "      <td>Volkswagen Scirocco 1.4A TSI (COE till 04/2026)</td>\n",
       "      <td>powerful and responsive 1.4l twin charged engi...</td>\n",
       "      <td>18\" sports rims, leather seats. factory fitted...</td>\n",
       "    </tr>\n",
       "    <tr>\n",
       "      <th>6158</th>\n",
       "      <td>1024514</td>\n",
       "      <td>Volkswagen Scirocco 1.4A TSI (COE till 03/2024)</td>\n",
       "      <td>powerful 1.4l twin charged turbo engine, respo...</td>\n",
       "      <td>re-tractable side mirrors. electric driver sea...</td>\n",
       "    </tr>\n",
       "  </tbody>\n",
       "</table>\n",
       "</div>"
      ],
      "text/plain": [
       "       listing_id                                            title  \\\n",
       "1706      1024611            Toyota Wish 1.8A X (COE till 07/2024)   \n",
       "9143      1024200  Audi A3 Cabriolet 1.4A TFSI S-tronic Attraction   \n",
       "9088      1016920      Honda Fit 1.3A G Skyroof (COE till 07/2025)   \n",
       "15034      999823  Volkswagen Scirocco 1.4A TSI (COE till 04/2026)   \n",
       "6158      1024514  Volkswagen Scirocco 1.4A TSI (COE till 03/2024)   \n",
       "\n",
       "                                                features  \\\n",
       "1706   1.8l dual vvti engine, 140 bhp, 7 speed cvt au...   \n",
       "9143   1.4l inline 4 cylinder turbocharged engine, 12...   \n",
       "9088   1.3l fuel saver yet powerful 4 cylinders inlin...   \n",
       "15034  powerful and responsive 1.4l twin charged engi...   \n",
       "6158   powerful 1.4l twin charged turbo engine, respo...   \n",
       "\n",
       "                                             accessories  \n",
       "1706   touchscreen audio system. auto climate control...  \n",
       "9143   audi mmi radio, bluetooth connectivity, usb. d...  \n",
       "9088   leather seats, sports rims, audio player, reve...  \n",
       "15034  18\" sports rims, leather seats. factory fitted...  \n",
       "6158   re-tractable side mirrors. electric driver sea...  "
      ]
     },
     "execution_count": 6,
     "metadata": {},
     "output_type": "execute_result"
    }
   ],
   "source": [
    "COLS_TO_SHOW = [\n",
    "    'listing_id',\n",
    "    'title',\n",
    "    'features',\n",
    "    'accessories'\n",
    "]\n",
    "\n",
    "df = car_finder.query_listings(search_str, k=5)\n",
    "df[COLS_TO_SHOW]"
   ]
  },
  {
   "cell_type": "markdown",
   "metadata": {},
   "source": [
    "Quickly check out the details for a given row returned"
   ]
  },
  {
   "cell_type": "code",
   "execution_count": 10,
   "metadata": {},
   "outputs": [
    {
     "name": "stdout",
     "output_type": "stream",
     "text": [
      "Toyota Wish 1.8A X (COE till 07/2024)\n",
      " Description: best buy, best deal, 100% loan + 0 driveaway available. lowest depreciation in the market. beautiful paint. well maintained, view to believe! flexible loan and high trade-in available! call or whatsapp our sales person for viewing now\n",
      " Features: 1.8l dual vvti engine, 140 bhp, 7 speed cvt automatic with steptronic, airbags, traction control, abs, keyless entry/start/stop, knockdown rear seats. view specs of the toyota wish\n",
      " Acc: touchscreen audio system. auto climate control aircon. reverse sensors. leather seats. knockdown rear seats. retractable side mirrors with indicators.\n"
     ]
    }
   ],
   "source": [
    "# View the content in full for one of the listings\n",
    "row_idx = 1706\n",
    "\n",
    "row = df.loc[row_idx]\n",
    "print(\n",
    "    f'{row.title}\\n',\n",
    "    f'Description: {row.description}\\n',\n",
    "    f'Features: {row.features}\\n',\n",
    "    f'Acc: {row.accessories}'\n",
    ")"
   ]
  },
  {
   "cell_type": "code",
   "execution_count": null,
   "metadata": {},
   "outputs": [],
   "source": []
  }
 ],
 "metadata": {
  "kernelspec": {
   "display_name": "Python 3",
   "language": "python",
   "name": "python3"
  },
  "language_info": {
   "codemirror_mode": {
    "name": "ipython",
    "version": 3
   },
   "file_extension": ".py",
   "mimetype": "text/x-python",
   "name": "python",
   "nbconvert_exporter": "python",
   "pygments_lexer": "ipython3",
   "version": "3.8.5"
  }
 },
 "nbformat": 4,
 "nbformat_minor": 5
}
