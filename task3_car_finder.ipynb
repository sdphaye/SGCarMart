{
 "cells": [
  {
   "cell_type": "markdown",
   "id": "302f1e6b",
   "metadata": {},
   "source": [
    "# Car Finder Engine"
   ]
  },
  {
   "cell_type": "markdown",
   "id": "46a251af",
   "metadata": {},
   "source": [
    "### Setup\n",
    "\n",
    "Import packages, read train data and embeddings"
   ]
  },
  {
   "cell_type": "code",
   "execution_count": 1,
   "id": "1ace4269",
   "metadata": {},
   "outputs": [],
   "source": [
    "from typing import List\n",
    "\n",
    "import numpy as np\n",
    "import pandas as pd\n",
    "from sentence_transformers import SentenceTransformer\n",
    "\n",
    "import cleaner\n",
    "import constants as const"
   ]
  },
  {
   "cell_type": "code",
   "execution_count": 2,
   "id": "99d4a334",
   "metadata": {},
   "outputs": [],
   "source": [
    "df_train_raw = pd.read_csv(const.TRAIN_PATH)\n",
    "df_train = cleaner.clean_preliminary(df_train_raw)\n",
    "df_train['title_lower'] = df_train.title.apply(lambda x: x.lower())"
   ]
  },
  {
   "cell_type": "markdown",
   "id": "e36d57f2",
   "metadata": {},
   "source": [
    "Setup and instantiate `CarFinder` class"
   ]
  },
  {
   "cell_type": "code",
   "execution_count": 3,
   "id": "b11beaff",
   "metadata": {},
   "outputs": [],
   "source": [
    "class CarFinder():\n",
    "    def __init__(self):\n",
    "        vec_file = np.load(const.TITLE_TO_VEC_FILE, allow_pickle=True).item()\n",
    "        self.title_embd_np_array = vec_file['title_embd_array']\n",
    "        self.title_embd_norm_array = np.linalg.norm(self.title_embd_np_array, axis=1)\n",
    "        self.index_to_title_dict = vec_file['index_to_title_dict']\n",
    "        self.encoder = SentenceTransformer('paraphrase-MiniLM-L6-v2')\n",
    "\n",
    "    def query_titles(self, query: str, k: int = 5) -> List[str]:\n",
    "        \"\"\"\n",
    "        Takes a query string as input and returns a list of the `k` titles with the\n",
    "        most similar sentence embedding\n",
    "        \"\"\"\n",
    "        query_embedding = self.encoder.encode([query]).squeeze()\n",
    "        raw_sim_score = self.title_embd_np_array @ query_embedding\n",
    "        normalizer = self.title_embd_norm_array * np.linalg.norm(query_embedding)\n",
    "        sim_scores = raw_sim_score / normalizer\n",
    "        title_indices = sim_scores.argsort()[:k]\n",
    "        titles = [self.index_to_title_dict[idx] for idx in title_indices]\n",
    "        return titles\n",
    "\n",
    "    def query_listings(self, query: str, k: int = 5) -> pd.DataFrame:\n",
    "        \"\"\"\n",
    "        Takes a query string as input and returns a DataFrame of the `k` listings\n",
    "        with the most similar sentence embedding\n",
    "        \"\"\"\n",
    "        titles = self.query_titles(query, k)\n",
    "        df = df_train[df_train.title_lower.isin(titles)]\n",
    "        ordering = {title: i for i, title in enumerate(titles)}\n",
    "        df = df.sort_values(by=['title_lower'], key=lambda title: title.map(ordering))\n",
    "        return df.head(k)\n",
    "\n",
    "\n",
    "car_finder = CarFinder()"
   ]
  },
  {
   "cell_type": "markdown",
   "id": "656d47c3",
   "metadata": {},
   "source": [
    "## Running Queries\n",
    "\n",
    "Query the data. You can search for either just titles with `query_titles` or use `query_listings` to get listings in the form of a DataFrame"
   ]
  },
  {
   "cell_type": "code",
   "execution_count": 4,
   "id": "94b2cbc4",
   "metadata": {},
   "outputs": [],
   "source": [
    "search_str = 'auto retractable side mirrors, multi-function steering controls'"
   ]
  },
  {
   "cell_type": "markdown",
   "id": "1768401e",
   "metadata": {},
   "source": [
    "Raw titles"
   ]
  },
  {
   "cell_type": "code",
   "execution_count": 5,
   "id": "9f142c74",
   "metadata": {},
   "outputs": [
    {
     "name": "stdout",
     "output_type": "stream",
     "text": [
      "maserati granturismo 4.2a (coe till 09/2030)\n",
      "nissan leaf electric g\n",
      "isuzu cyz52k tipper (coe till 12/2030)\n",
      "isuzu cyz52k\n",
      "kia cerato forte 1.6a sx (coe till 03/2030)\n"
     ]
    }
   ],
   "source": [
    "for title in car_finder.query_titles(search_str, k=5):\n",
    "    print(title)"
   ]
  },
  {
   "cell_type": "markdown",
   "id": "6a11b1b9",
   "metadata": {},
   "source": [
    "Listings"
   ]
  },
  {
   "cell_type": "code",
   "execution_count": 6,
   "id": "ae73a24e",
   "metadata": {},
   "outputs": [
    {
     "data": {
      "text/html": [
       "<div>\n",
       "<style scoped>\n",
       "    .dataframe tbody tr th:only-of-type {\n",
       "        vertical-align: middle;\n",
       "    }\n",
       "\n",
       "    .dataframe tbody tr th {\n",
       "        vertical-align: top;\n",
       "    }\n",
       "\n",
       "    .dataframe thead th {\n",
       "        text-align: right;\n",
       "    }\n",
       "</style>\n",
       "<table border=\"1\" class=\"dataframe\">\n",
       "  <thead>\n",
       "    <tr style=\"text-align: right;\">\n",
       "      <th></th>\n",
       "      <th>listing_id</th>\n",
       "      <th>title</th>\n",
       "      <th>description</th>\n",
       "      <th>features</th>\n",
       "      <th>accessories</th>\n",
       "      <th>price</th>\n",
       "    </tr>\n",
       "  </thead>\n",
       "  <tbody>\n",
       "    <tr>\n",
       "      <th>1452</th>\n",
       "      <td>1009066</td>\n",
       "      <td>Maserati GranTurismo 4.2A (COE till 09/2030)</td>\n",
       "      <td>pristine condition and best value in the marke...</td>\n",
       "      <td>4.2l v8 engine, 399bhp with 460nm of torque, 6...</td>\n",
       "      <td>multi-function steering, electric seats, auto ...</td>\n",
       "      <td>170500</td>\n",
       "    </tr>\n",
       "    <tr>\n",
       "      <th>14604</th>\n",
       "      <td>1000923</td>\n",
       "      <td>Nissan Leaf Electric G</td>\n",
       "      <td>new ev battery 1 year warranty 24kw upgrade ev...</td>\n",
       "      <td>view specs of the nissan leaf electric</td>\n",
       "      <td>UNKNOWN</td>\n",
       "      <td>61600</td>\n",
       "    </tr>\n",
       "    <tr>\n",
       "      <th>1614</th>\n",
       "      <td>945905</td>\n",
       "      <td>Isuzu CYZ52K Tipper (COE till 12/2030)</td>\n",
       "      <td>rare gem! lowest depreciation! 2011! 10yrs coe...</td>\n",
       "      <td>UNKNOWN</td>\n",
       "      <td>UNKNOWN</td>\n",
       "      <td>94400</td>\n",
       "    </tr>\n",
       "    <tr>\n",
       "      <th>6514</th>\n",
       "      <td>1015358</td>\n",
       "      <td>Isuzu CYZ52K</td>\n",
       "      <td>UNKNOWN</td>\n",
       "      <td>UNKNOWN</td>\n",
       "      <td>UNKNOWN</td>\n",
       "      <td>68200</td>\n",
       "    </tr>\n",
       "    <tr>\n",
       "      <th>1859</th>\n",
       "      <td>1028741</td>\n",
       "      <td>Kia Cerato Forte 1.6A SX (COE till 03/2030)</td>\n",
       "      <td>view to believe and passing through do not mis...</td>\n",
       "      <td>1.6l dohc 16v cvvt engine with 122bhp, 4 speed...</td>\n",
       "      <td>original rims, premium leather upholstery seat...</td>\n",
       "      <td>54800</td>\n",
       "    </tr>\n",
       "  </tbody>\n",
       "</table>\n",
       "</div>"
      ],
      "text/plain": [
       "       listing_id                                         title  \\\n",
       "1452      1009066  Maserati GranTurismo 4.2A (COE till 09/2030)   \n",
       "14604     1000923                        Nissan Leaf Electric G   \n",
       "1614       945905        Isuzu CYZ52K Tipper (COE till 12/2030)   \n",
       "6514      1015358                                  Isuzu CYZ52K   \n",
       "1859      1028741   Kia Cerato Forte 1.6A SX (COE till 03/2030)   \n",
       "\n",
       "                                             description  \\\n",
       "1452   pristine condition and best value in the marke...   \n",
       "14604  new ev battery 1 year warranty 24kw upgrade ev...   \n",
       "1614   rare gem! lowest depreciation! 2011! 10yrs coe...   \n",
       "6514                                             UNKNOWN   \n",
       "1859   view to believe and passing through do not mis...   \n",
       "\n",
       "                                                features  \\\n",
       "1452   4.2l v8 engine, 399bhp with 460nm of torque, 6...   \n",
       "14604             view specs of the nissan leaf electric   \n",
       "1614                                             UNKNOWN   \n",
       "6514                                             UNKNOWN   \n",
       "1859   1.6l dohc 16v cvvt engine with 122bhp, 4 speed...   \n",
       "\n",
       "                                             accessories   price  \n",
       "1452   multi-function steering, electric seats, auto ...  170500  \n",
       "14604                                            UNKNOWN   61600  \n",
       "1614                                             UNKNOWN   94400  \n",
       "6514                                             UNKNOWN   68200  \n",
       "1859   original rims, premium leather upholstery seat...   54800  "
      ]
     },
     "execution_count": 6,
     "metadata": {},
     "output_type": "execute_result"
    }
   ],
   "source": [
    "COLS_TO_SHOW = [\n",
    "    'listing_id',\n",
    "    'title',\n",
    "    'description',\n",
    "    'features',\n",
    "    'accessories',\n",
    "    'price'\n",
    "]\n",
    "\n",
    "df = car_finder.query_listings(search_str, k=5)\n",
    "df[COLS_TO_SHOW]"
   ]
  },
  {
   "cell_type": "markdown",
   "id": "4011948e",
   "metadata": {},
   "source": [
    "Quickly check out the details for a given row returned"
   ]
  },
  {
   "cell_type": "code",
   "execution_count": 7,
   "id": "6b69bf22",
   "metadata": {},
   "outputs": [
    {
     "name": "stdout",
     "output_type": "stream",
     "text": [
      "Maserati GranTurismo 4.2A (COE till 09/2030)\n",
      " Description: pristine condition and best value in the market! meticulous owner and serviced at maserati specialist eag! accident-free! bank/in house finance available at attractive interest rates! trade-in welcome! book an appointment with our friendly staff now for viewing. free servicing/grooming package if the price is right! terms and conditions applied.\n",
      " Features: 4.2l v8 engine, 399bhp with 460nm of torque, 6 speed zf gearbox, paddle shifters, rear wheel drive. view specs of the maserati granturismo\n",
      " Acc: multi-function steering, electric seats, auto headlights/wipers, navigation, all round sensors, android headunit, no sticky buttons!\n"
     ]
    }
   ],
   "source": [
    "# View the content in full for one of the listings\n",
    "row_idx = 1452\n",
    "\n",
    "row = df.loc[row_idx]\n",
    "print(\n",
    "    f'{row.title}\\n',\n",
    "    f'Description: {row.description}\\n',\n",
    "    f'Features: {row.features}\\n',\n",
    "    f'Acc: {row.accessories}'\n",
    ")"
   ]
  },
  {
   "cell_type": "code",
   "execution_count": null,
   "id": "a467796f",
   "metadata": {},
   "outputs": [],
   "source": []
  },
  {
   "cell_type": "markdown",
   "id": "59b85290",
   "metadata": {},
   "source": [
    "# Code to generate title embeddings\n",
    "\n",
    "This code should not be run at prediction time. It is to generate title embeddings only once."
   ]
  },
  {
   "cell_type": "code",
   "execution_count": 1,
   "id": "6f62ad13",
   "metadata": {},
   "outputs": [],
   "source": [
    "import pandas as pd\n",
    "import numpy as np\n",
    "import json\n",
    "\n",
    "from sentence_transformers import SentenceTransformer\n",
    "from constants import TRAIN_PATH, TITLE_TO_VEC_FILE"
   ]
  },
  {
   "cell_type": "code",
   "execution_count": 2,
   "id": "78505e6d",
   "metadata": {},
   "outputs": [],
   "source": [
    "train_file = TRAIN_PATH\n",
    "\n",
    "train_df = pd.read_csv(train_file)\n",
    "train_df = train_df.drop(\"listing_id\", axis=1)"
   ]
  },
  {
   "cell_type": "code",
   "execution_count": 3,
   "id": "c53cae76",
   "metadata": {},
   "outputs": [],
   "source": [
    "def preprocess(entry):\n",
    "    return str(entry).lower().strip()"
   ]
  },
  {
   "cell_type": "code",
   "execution_count": null,
   "id": "931ba078",
   "metadata": {},
   "outputs": [],
   "source": [
    "train_df.title = train_df.title.apply(preprocess)\n",
    "group_by_title = train_df.groupby(\"title\")\n",
    "\n",
    "title_to_data_dict = {}\n",
    "\n",
    "for key in group_by_title.groups.keys():\n",
    "    for index in group_by_title.groups.get(key):\n",
    "        tmp_list = []\n",
    "        for colm_value in list(train_df.iloc[index].items()):\n",
    "            tmp_list.append(\"{} is {} .\".format(colm_value[0], colm_value[1]))\n",
    "            \n",
    "        if key in title_to_data_dict:\n",
    "            title_to_data_dict[key].append(\" \".join(tmp_list))\n",
    "        else:\n",
    "            title_to_data_dict[key] = [\" \".join(tmp_list)]\n",
    "            \n",
    "with open(TITLE_TO_VEC_FILE, \"w\") as out_f:\n",
    "    out_f.write(json.dumps(title_to_data_dict))"
   ]
  },
  {
   "cell_type": "code",
   "execution_count": null,
   "id": "b11c4f09",
   "metadata": {},
   "outputs": [],
   "source": [
    "encoder = SentenceTransformer('paraphrase-MiniLM-L6-v2')"
   ]
  },
  {
   "cell_type": "code",
   "execution_count": null,
   "id": "2f9df9a7",
   "metadata": {},
   "outputs": [],
   "source": [
    "title_to_mean_dict = {}\n",
    "\n",
    "for key in title_to_data_dict.keys():\n",
    "    mean_embd = np.mean(encoder.encode(title_to_data_dict[key]), axis=0)\n",
    "    title_to_mean_dict[key] = mean_embd\n",
    "    \n",
    "    \n",
    "index_to_title_dict = {}\n",
    "title_embd_list = []\n",
    "\n",
    "index = 0\n",
    "for key in title_to_mean_dict.keys():\n",
    "    title_embd_list.append(title_to_mean_dict[key])\n",
    "    index_to_title_dict[index] = key\n",
    "    index += 1\n",
    "    \n",
    "np.save(TITLE_TO_VEC_FILE, {\"title_embd_array\": np.array(title_embd_list), \"index_to_title_dict\": index_to_title_dict})"
   ]
  }
 ],
 "metadata": {
  "kernelspec": {
   "display_name": "Python 3",
   "language": "python",
   "name": "python3"
  },
  "language_info": {
   "codemirror_mode": {
    "name": "ipython",
    "version": 3
   },
   "file_extension": ".py",
   "mimetype": "text/x-python",
   "name": "python",
   "nbconvert_exporter": "python",
   "pygments_lexer": "ipython3",
   "version": "3.6.9"
  }
 },
 "nbformat": 4,
 "nbformat_minor": 5
}
