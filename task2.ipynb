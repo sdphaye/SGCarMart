{
 "cells": [
  {
   "cell_type": "markdown",
   "metadata": {},
   "source": [
    "# Task 2: Recommendation Engine - Skeleton Notebook\n",
    "\n",
    "This notebook provides a very basic example for the notebook you are expected to submit for Task 2 of the Final Project. The main purpose is that we can try different examples to get a better sense of your approach. Compared to Task 1 (Kaggle Competition), we don't have any objective means to evaluate the recommendations. \n",
    "\n",
    "Some general comments:\n",
    "* You can import any data you need. This particularly includes your cleaned version of the Used Cars dataset; there's no need to show the data cleaning / preprocessing steps in this notebook.\n",
    "* You can also import your code in form of external Python (.py) script. You're actually encouraged to do so to keep this notebook light and uncluttered.\n",
    "* Please consider this notebook as an example and not to set specific requirements. As long there is a section where we can easily test your solution, it should be fine."
   ]
  },
  {
   "cell_type": "markdown",
   "metadata": {},
   "source": [
    "## Setting up the Notebook"
   ]
  },
  {
   "cell_type": "code",
   "execution_count": 1,
   "metadata": {},
   "outputs": [],
   "source": [
    "import numpy as np\n",
    "import pandas as pd\n",
    "from sentence_transformers import SentenceTransformer\n",
    "from pandarallel import pandarallel\n",
    "\n",
    "import cleaner\n",
    "import constants as const\n",
    "import similarity as sim\n",
    "import utils\n",
    "import item_filters as itf"
   ]
  },
  {
   "cell_type": "code",
   "execution_count": 2,
   "metadata": {},
   "outputs": [
    {
     "name": "stdout",
     "output_type": "stream",
     "text": [
      "INFO: Pandarallel will run on 12 workers.\n",
      "INFO: Pandarallel will use standard multiprocessing data transfer (pipe) to transfer data between the main process and workers.\n"
     ]
    }
   ],
   "source": [
    "pandarallel.initialize()"
   ]
  },
  {
   "cell_type": "markdown",
   "metadata": {},
   "source": [
    "Load model for generating embeddings for sentences. This is used for the fast approach. **NB: It might download a model to your Python installation**"
   ]
  },
  {
   "cell_type": "code",
   "execution_count": 3,
   "metadata": {},
   "outputs": [],
   "source": [
    "# Setup related to fast approach\n",
    "encoder = SentenceTransformer('paraphrase-MiniLM-L6-v2')\n",
    "CAR_EMBEDDING_MATRIX = np.load(const.CAR_EMBEDDING_MATRIX_PATH, allow_pickle=True)\n",
    "CAR_EMBEDDING_NORM_VEC = np.linalg.norm(CAR_EMBEDDING_MATRIX, axis=1)"
   ]
  },
  {
   "cell_type": "code",
   "execution_count": 4,
   "metadata": {},
   "outputs": [],
   "source": [
    "df_train_raw = pd.read_csv(const.TRAIN_PATH)\n",
    "df_train = cleaner.clean_preliminary(df_train_raw)"
   ]
  },
  {
   "cell_type": "markdown",
   "metadata": {},
   "source": [
    "## Load the Data\n",
    "\n",
    "For this example, we use a simplified version of the dataset with only 100 data sample, each with only 6 features"
   ]
  },
  {
   "cell_type": "code",
   "execution_count": 5,
   "metadata": {},
   "outputs": [
    {
     "data": {
      "text/html": [
       "<div>\n",
       "<style scoped>\n",
       "    .dataframe tbody tr th:only-of-type {\n",
       "        vertical-align: middle;\n",
       "    }\n",
       "\n",
       "    .dataframe tbody tr th {\n",
       "        vertical-align: top;\n",
       "    }\n",
       "\n",
       "    .dataframe thead th {\n",
       "        text-align: right;\n",
       "    }\n",
       "</style>\n",
       "<table border=\"1\" class=\"dataframe\">\n",
       "  <thead>\n",
       "    <tr style=\"text-align: right;\">\n",
       "      <th></th>\n",
       "      <th>index</th>\n",
       "      <th>listing_id</th>\n",
       "      <th>make</th>\n",
       "      <th>power</th>\n",
       "      <th>engine_cap</th>\n",
       "      <th>mileage</th>\n",
       "      <th>price</th>\n",
       "    </tr>\n",
       "  </thead>\n",
       "  <tbody>\n",
       "    <tr>\n",
       "      <th>0</th>\n",
       "      <td>0</td>\n",
       "      <td>1006025</td>\n",
       "      <td>bmw</td>\n",
       "      <td>135.0</td>\n",
       "      <td>1997.0</td>\n",
       "      <td>NaN</td>\n",
       "      <td>82300</td>\n",
       "    </tr>\n",
       "    <tr>\n",
       "      <th>1</th>\n",
       "      <td>1</td>\n",
       "      <td>994672</td>\n",
       "      <td>land rover</td>\n",
       "      <td>202.0</td>\n",
       "      <td>2993.0</td>\n",
       "      <td>25843.0</td>\n",
       "      <td>427900</td>\n",
       "    </tr>\n",
       "    <tr>\n",
       "      <th>2</th>\n",
       "      <td>2</td>\n",
       "      <td>921142</td>\n",
       "      <td>honda</td>\n",
       "      <td>95.6</td>\n",
       "      <td>1496.0</td>\n",
       "      <td>2000.0</td>\n",
       "      <td>109800</td>\n",
       "    </tr>\n",
       "    <tr>\n",
       "      <th>3</th>\n",
       "      <td>3</td>\n",
       "      <td>1008328</td>\n",
       "      <td>bmw</td>\n",
       "      <td>185.0</td>\n",
       "      <td>1998.0</td>\n",
       "      <td>57386.0</td>\n",
       "      <td>166600</td>\n",
       "    </tr>\n",
       "    <tr>\n",
       "      <th>4</th>\n",
       "      <td>4</td>\n",
       "      <td>1010661</td>\n",
       "      <td>NaN</td>\n",
       "      <td>96.0</td>\n",
       "      <td>1498.0</td>\n",
       "      <td>76000.0</td>\n",
       "      <td>59400</td>\n",
       "    </tr>\n",
       "  </tbody>\n",
       "</table>\n",
       "</div>"
      ],
      "text/plain": [
       "   index  listing_id        make  power  engine_cap  mileage   price\n",
       "0      0     1006025         bmw  135.0      1997.0      NaN   82300\n",
       "1      1      994672  land rover  202.0      2993.0  25843.0  427900\n",
       "2      2      921142       honda   95.6      1496.0   2000.0  109800\n",
       "3      3     1008328         bmw  185.0      1998.0  57386.0  166600\n",
       "4      4     1010661         NaN   96.0      1498.0  76000.0   59400"
      ]
     },
     "execution_count": 5,
     "metadata": {},
     "output_type": "execute_result"
    }
   ],
   "source": [
    "df_sample_raw = pd.read_csv(const.USED_CARS_SIMPLIFIED_PATH)\n",
    "df_sample = cleaner.clean_preliminary(df_sample_raw)\n",
    "df_sample.head()"
   ]
  },
  {
   "cell_type": "code",
   "execution_count": 6,
   "metadata": {},
   "outputs": [],
   "source": [
    "COLS_TO_SHOW = [\n",
    "    'listing_id',\n",
    "    'title',\n",
    "    'make',\n",
    "    'power',\n",
    "    'engine_cap',\n",
    "    'mileage',\n",
    "    'price',\n",
    "    'description',\n",
    "    'fuel_type',\n",
    "    'accessories'\n",
    "]"
   ]
  },
  {
   "cell_type": "markdown",
   "metadata": {},
   "source": [
    "## Computing the Top Recommendations\n",
    "\n",
    "The method `get_top_recommendations()` shows an example of how to get the top recommendations for a given data sample (data sample = row in the dataframe of the dataset). The input is a row from the dataset and a list of optional input parameters which will depend on your approach; `k` is the number of returned recommendations seems useful, though.\n",
    "\n",
    "The output should be a `pd.DataFrame` containing the recommendations. The output dataframe should have the same columns as the row + any additional columns you deem important (e.g., any score or tags that you might want to add to your recommendations).\n",
    "\n",
    "In principle, the method `get_top_recommendations()` may be imported from a external Python (.py) script as well."
   ]
  },
  {
   "cell_type": "code",
   "execution_count": 7,
   "metadata": {},
   "outputs": [],
   "source": [
    "DEFAULT_K = 10\n",
    "DEFAULT_NOISE_LEVEL = 0.1\n",
    "DEFAULT_USE_FAST_METHOD = False\n",
    "\n",
    "cache = {}\n",
    "\n",
    "\n",
    "def get_top_recommendations(row, **kwargs) -> pd.DataFrame:\n",
    "    #####################################################\n",
    "    ## Initialize the required parameters\n",
    "    k = kwargs.get('k', DEFAULT_K)\n",
    "    noise_level = kwargs.get('noise_level', DEFAULT_NOISE_LEVEL)\n",
    "    use_fast_method = kwargs.get('use_fast_method', DEFAULT_USE_FAST_METHOD)\n",
    "    user_id = kwargs.get('user_id', None)\n",
    "    user_pref = USER_PREFERENCES.get(user_id, {})\n",
    "    assert k >= 1, 'k should be >= 1'\n",
    "    assert noise_level >= 0.0, 'noise should not be negative'\n",
    "    assert isinstance(use_fast_method, bool), '`use_fast_method` should be a bool'\n",
    "    assert user_id is None or user_id in USER_PREFERENCES, \\\n",
    "        f'User ID not found, try one of {list(USER_PREFERENCES.keys())} or None'\n",
    "    #####################################################\n",
    "    sim_df = None\n",
    "    if use_fast_method:\n",
    "        query_strs = [f'{key} is {val}' for key, val in row.items()]\n",
    "        query_row = ' '.join(query_strs)\n",
    "        query_embedding = encoder.encode([query_row]).squeeze()\n",
    "        raw_sim_score = CAR_EMBEDDING_MATRIX @ query_embedding\n",
    "        normalizer = CAR_EMBEDDING_NORM_VEC * np.linalg.norm(query_embedding)\n",
    "        sim_scores = raw_sim_score / normalizer\n",
    "        sim_df = pd.DataFrame(sim_scores.reshape(1, -1))\n",
    "    else:  # Slower approach\n",
    "        # Get listing id similarity from cache if present, otherwise compute from scratch\n",
    "        if row.listing_id in cache:\n",
    "            sim_df = cache[row.listing_id]\n",
    "        else:\n",
    "            sim_df = sim.compute_similarities(pd.DataFrame([row]), df_train, is_test=True)\n",
    "            cache[row.listing_id] = sim_df\n",
    "\n",
    "    # Make noise similarity DataFrame\n",
    "    noise = np.random.uniform(-noise_level, noise_level, size=len(df_train))\n",
    "    sim_df_noisy = sim_df + noise\n",
    "    \n",
    "    # Get most similar\n",
    "    most_similar_indices = utils.get_top_k_most_similar(sim_df_noisy, k=k).iloc[0]\n",
    "    df_most_similar = df_train.iloc[most_similar_indices]\n",
    "    \n",
    "    # Filter based on user preferences (if any) and original listing id\n",
    "    df_user = itf.filter_on_user_pref(user_pref, df_most_similar)\n",
    "    df_result = df_user[df_user.listing_id != row.listing_id]\n",
    "        \n",
    "    # Return the dataset with the k recommendations\n",
    "    return df_result.head(k)"
   ]
  },
  {
   "cell_type": "markdown",
   "metadata": {},
   "source": [
    "## Testing the Recommendation Engine\n",
    "\n",
    "This will be the main part of your notebook to allow for testing your solutions. Most basically, for a given listing (defined by the row id in your input dataframe), we would like to see the recommendations you make. So however you set up your notebook, it should have at least a comparable section that will allow us to run your solution for different inputs."
   ]
  },
  {
   "cell_type": "markdown",
   "metadata": {},
   "source": [
    "### Define User Preferences\n",
    "\n",
    "Below, we define a user preferences dictionary where the key is the user id and the item is a dictionary of column-filter pairs specifying the item filter the user wants to apply for a given column.\n",
    "\n",
    "It is assumed that if a user specifies some preferences, they *only* want to see cars that fullfill their preferences - i.e., we can do raw filtering based on their preferences.\n",
    "\n",
    "The following item filters are available: \n",
    "* `RegexFilter(pattern: str)`\n",
    "* `NumericalFilter(min_value: Optional[Number], max_value: Optional[Number])`\n",
    "* `SetFilter(values: Set[Any])`\n",
    "* `NotFilter(item_filter: ItemFilter)`"
   ]
  },
  {
   "cell_type": "code",
   "execution_count": 8,
   "metadata": {},
   "outputs": [],
   "source": [
    "USER_PREFERENCES = {\n",
    "    1: {\n",
    "        'accessories': itf.RegexFilter(r'bluetooth'),\n",
    "        'price': itf.NumericalFilter(max_value=110_000)\n",
    "    },\n",
    "    2: {\n",
    "        'accessories': itf.RegexFilter(r'leather'),\n",
    "        'car_age': itf.NumericalFilter(1, 3),\n",
    "        'price': itf.NumericalFilter(min_value=50_000)\n",
    "    }\n",
    "}"
   ]
  },
  {
   "cell_type": "markdown",
   "metadata": {},
   "source": [
    "### Pick a Sample Listing as Input"
   ]
  },
  {
   "cell_type": "code",
   "execution_count": 9,
   "metadata": {},
   "outputs": [
    {
     "data": {
      "text/html": [
       "<div>\n",
       "<style scoped>\n",
       "    .dataframe tbody tr th:only-of-type {\n",
       "        vertical-align: middle;\n",
       "    }\n",
       "\n",
       "    .dataframe tbody tr th {\n",
       "        vertical-align: top;\n",
       "    }\n",
       "\n",
       "    .dataframe thead th {\n",
       "        text-align: right;\n",
       "    }\n",
       "</style>\n",
       "<table border=\"1\" class=\"dataframe\">\n",
       "  <thead>\n",
       "    <tr style=\"text-align: right;\">\n",
       "      <th></th>\n",
       "      <th>index</th>\n",
       "      <th>listing_id</th>\n",
       "      <th>make</th>\n",
       "      <th>power</th>\n",
       "      <th>engine_cap</th>\n",
       "      <th>mileage</th>\n",
       "      <th>price</th>\n",
       "    </tr>\n",
       "  </thead>\n",
       "  <tbody>\n",
       "    <tr>\n",
       "      <th>30</th>\n",
       "      <td>30</td>\n",
       "      <td>1019460</td>\n",
       "      <td>toyota</td>\n",
       "      <td>125.0</td>\n",
       "      <td>2362.0</td>\n",
       "      <td>28126.0</td>\n",
       "      <td>137300</td>\n",
       "    </tr>\n",
       "  </tbody>\n",
       "</table>\n",
       "</div>"
      ],
      "text/plain": [
       "    index  listing_id    make  power  engine_cap  mileage   price\n",
       "30     30     1019460  toyota  125.0      2362.0  28126.0  137300"
      ]
     },
     "execution_count": 9,
     "metadata": {},
     "output_type": "execute_result"
    }
   ],
   "source": [
    "# Pick a row id of choice\n",
    "#row_id = 10\n",
    "#row_id = 20\n",
    "row_id = 30\n",
    "#row_id = 40\n",
    "#row_id = 50\n",
    "\n",
    "row = df_sample.iloc[row_id]\n",
    "pd.DataFrame([row])"
   ]
  },
  {
   "cell_type": "markdown",
   "metadata": {},
   "source": [
    "## Compute and Display the recommendations\n",
    "\n",
    "Since the method `get_top_recommendations()` returns a `pd.DataFrame`, it's easy to display the result."
   ]
  },
  {
   "cell_type": "code",
   "execution_count": 10,
   "metadata": {},
   "outputs": [
    {
     "data": {
      "text/html": [
       "<div>\n",
       "<style scoped>\n",
       "    .dataframe tbody tr th:only-of-type {\n",
       "        vertical-align: middle;\n",
       "    }\n",
       "\n",
       "    .dataframe tbody tr th {\n",
       "        vertical-align: top;\n",
       "    }\n",
       "\n",
       "    .dataframe thead th {\n",
       "        text-align: right;\n",
       "    }\n",
       "</style>\n",
       "<table border=\"1\" class=\"dataframe\">\n",
       "  <thead>\n",
       "    <tr style=\"text-align: right;\">\n",
       "      <th></th>\n",
       "      <th>listing_id</th>\n",
       "      <th>title</th>\n",
       "      <th>make</th>\n",
       "      <th>power</th>\n",
       "      <th>engine_cap</th>\n",
       "      <th>mileage</th>\n",
       "      <th>price</th>\n",
       "      <th>description</th>\n",
       "      <th>fuel_type</th>\n",
       "      <th>accessories</th>\n",
       "    </tr>\n",
       "  </thead>\n",
       "  <tbody>\n",
       "    <tr>\n",
       "      <th>1270</th>\n",
       "      <td>988191</td>\n",
       "      <td>Toyota Hiace 3.0M</td>\n",
       "      <td>toyota</td>\n",
       "      <td>NaN</td>\n",
       "      <td>2982.0</td>\n",
       "      <td>11.0</td>\n",
       "      <td>93200</td>\n",
       "      <td>avoid latest diesel penalty? ready stock to go...</td>\n",
       "      <td>diesel</td>\n",
       "      <td>usb player, front recording camera, reverse se...</td>\n",
       "    </tr>\n",
       "    <tr>\n",
       "      <th>7552</th>\n",
       "      <td>1024896</td>\n",
       "      <td>MG HS 1.5A Turbo</td>\n",
       "      <td>mg</td>\n",
       "      <td>119.0</td>\n",
       "      <td>1490.0</td>\n",
       "      <td>20000.0</td>\n",
       "      <td>130700</td>\n",
       "      <td>1500</td>\n",
       "      <td>petrol</td>\n",
       "      <td>stellar field grille, sports pedals, steering ...</td>\n",
       "    </tr>\n",
       "    <tr>\n",
       "      <th>4538</th>\n",
       "      <td>1019250</td>\n",
       "      <td>Toyota Corolla Altis 1.6A</td>\n",
       "      <td>toyota</td>\n",
       "      <td>90.0</td>\n",
       "      <td>1598.0</td>\n",
       "      <td>143000.0</td>\n",
       "      <td>17800</td>\n",
       "      <td>one owner, very well maintained.</td>\n",
       "      <td>petrol</td>\n",
       "      <td>UNKNOWN</td>\n",
       "    </tr>\n",
       "    <tr>\n",
       "      <th>15102</th>\n",
       "      <td>1024255</td>\n",
       "      <td>Toyota C-HR Hybrid 1.8A G</td>\n",
       "      <td>toyota</td>\n",
       "      <td>90.0</td>\n",
       "      <td>1797.0</td>\n",
       "      <td>NaN</td>\n",
       "      <td>88000</td>\n",
       "      <td>0</td>\n",
       "      <td>petrol-electric</td>\n",
       "      <td>kaki motor exhaust, kenwood head unit with mor...</td>\n",
       "    </tr>\n",
       "    <tr>\n",
       "      <th>2807</th>\n",
       "      <td>1029223</td>\n",
       "      <td>Honda Stream 1.8A X (COE till 11/2023)</td>\n",
       "      <td>honda</td>\n",
       "      <td>103.0</td>\n",
       "      <td>1799.0</td>\n",
       "      <td>NaN</td>\n",
       "      <td>16800</td>\n",
       "      <td>15300</td>\n",
       "      <td>petrol</td>\n",
       "      <td>full bodykits, leather seats, dvd player, reve...</td>\n",
       "    </tr>\n",
       "  </tbody>\n",
       "</table>\n",
       "</div>"
      ],
      "text/plain": [
       "       listing_id                                   title    make  power  \\\n",
       "1270       988191                       Toyota Hiace 3.0M  toyota    NaN   \n",
       "7552      1024896                        MG HS 1.5A Turbo      mg  119.0   \n",
       "4538      1019250               Toyota Corolla Altis 1.6A  toyota   90.0   \n",
       "15102     1024255               Toyota C-HR Hybrid 1.8A G  toyota   90.0   \n",
       "2807      1029223  Honda Stream 1.8A X (COE till 11/2023)   honda  103.0   \n",
       "\n",
       "       engine_cap   mileage   price  \\\n",
       "1270       2982.0      11.0   93200   \n",
       "7552       1490.0   20000.0  130700   \n",
       "4538       1598.0  143000.0   17800   \n",
       "15102      1797.0       NaN   88000   \n",
       "2807       1799.0       NaN   16800   \n",
       "\n",
       "                                             description        fuel_type  \\\n",
       "1270   avoid latest diesel penalty? ready stock to go...           diesel   \n",
       "7552                                                1500           petrol   \n",
       "4538                    one owner, very well maintained.           petrol   \n",
       "15102                                                  0  petrol-electric   \n",
       "2807                                               15300           petrol   \n",
       "\n",
       "                                             accessories  \n",
       "1270   usb player, front recording camera, reverse se...  \n",
       "7552   stellar field grille, sports pedals, steering ...  \n",
       "4538                                             UNKNOWN  \n",
       "15102  kaki motor exhaust, kenwood head unit with mor...  \n",
       "2807   full bodykits, leather seats, dvd player, reve...  "
      ]
     },
     "execution_count": 10,
     "metadata": {},
     "output_type": "execute_result"
    }
   ],
   "source": [
    "# Number of similar rows to show\n",
    "k = 5\n",
    "\n",
    "# Noise level. The higher, the more noise the suggestions. If noise_level=0, then\n",
    "# get_top_recommendations becomes deterministic\n",
    "noise_level = 1\n",
    "\n",
    "# Optional user id. Should be either None or an existing user_id - {1, 2} already defined\n",
    "user_id = None\n",
    "\n",
    "# Whether to use fast, more rough approach or slower, more precise approach\n",
    "use_fast_method = True\n",
    "\n",
    "# Get and show recommendations\n",
    "df_recommendations = get_top_recommendations(\n",
    "    row,\n",
    "    k=k,\n",
    "    noise_level=noise_level,\n",
    "    user_id=user_id,\n",
    "    use_fast_method=use_fast_method\n",
    ")\n",
    "df_recommendations[COLS_TO_SHOW]"
   ]
  },
  {
   "cell_type": "code",
   "execution_count": null,
   "metadata": {},
   "outputs": [],
   "source": []
  }
 ],
 "metadata": {
  "kernelspec": {
   "display_name": "Python 3",
   "language": "python",
   "name": "python3"
  },
  "language_info": {
   "codemirror_mode": {
    "name": "ipython",
    "version": 3
   },
   "file_extension": ".py",
   "mimetype": "text/x-python",
   "name": "python",
   "nbconvert_exporter": "python",
   "pygments_lexer": "ipython3",
   "version": "3.8.5"
  }
 },
 "nbformat": 4,
 "nbformat_minor": 5
}
