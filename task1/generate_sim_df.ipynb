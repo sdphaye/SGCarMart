{
 "cells": [
  {
   "cell_type": "code",
   "execution_count": 1,
   "metadata": {},
   "outputs": [],
   "source": [
    "from typing import Optional, Any, Set\n",
    "from numbers import Number\n",
    "import json\n",
    "from pathlib import Path\n",
    "from difflib import SequenceMatcher\n",
    "\n",
    "from pandarallel import pandarallel\n",
    "import pandas as pd\n",
    "import numpy as np\n",
    "import matplotlib\n",
    "import matplotlib.pyplot as plt\n",
    "from tqdm import tqdm\n",
    "import seaborn as sns\n",
    "from pylab import rcParams\n",
    "\n",
    "from sklearn.preprocessing import StandardScaler\n",
    "from sklearn.linear_model import LinearRegression\n",
    "from sklearn.metrics import mean_squared_error as mse"
   ]
  },
  {
   "cell_type": "code",
   "execution_count": 2,
   "metadata": {},
   "outputs": [],
   "source": [
    "%%capture\n",
    "cd .."
   ]
  },
  {
   "cell_type": "code",
   "execution_count": 3,
   "metadata": {},
   "outputs": [],
   "source": [
    "import similarity as sim\n",
    "import constants as const\n",
    "import cleaner"
   ]
  },
  {
   "cell_type": "code",
   "execution_count": 4,
   "metadata": {},
   "outputs": [
    {
     "name": "stdout",
     "output_type": "stream",
     "text": [
      "INFO: Pandarallel will run on 12 workers.\n",
      "INFO: Pandarallel will use standard multiprocessing data transfer (pipe) to transfer data between the main process and workers.\n"
     ]
    }
   ],
   "source": [
    "tqdm.pandas()\n",
    "pandarallel.initialize(progress_bar=True)"
   ]
  },
  {
   "cell_type": "code",
   "execution_count": 6,
   "metadata": {},
   "outputs": [
    {
     "data": {
      "text/html": [
       "<div>\n",
       "<style scoped>\n",
       "    .dataframe tbody tr th:only-of-type {\n",
       "        vertical-align: middle;\n",
       "    }\n",
       "\n",
       "    .dataframe tbody tr th {\n",
       "        vertical-align: top;\n",
       "    }\n",
       "\n",
       "    .dataframe thead th {\n",
       "        text-align: right;\n",
       "    }\n",
       "</style>\n",
       "<table border=\"1\" class=\"dataframe\">\n",
       "  <thead>\n",
       "    <tr style=\"text-align: right;\">\n",
       "      <th></th>\n",
       "      <th>listing_id</th>\n",
       "      <th>title</th>\n",
       "      <th>make</th>\n",
       "      <th>model</th>\n",
       "      <th>description</th>\n",
       "      <th>manufactured</th>\n",
       "      <th>original_reg_date</th>\n",
       "      <th>reg_date</th>\n",
       "      <th>type_of_vehicle</th>\n",
       "      <th>category</th>\n",
       "      <th>...</th>\n",
       "      <th>mileage</th>\n",
       "      <th>omv</th>\n",
       "      <th>arf</th>\n",
       "      <th>opc_scheme</th>\n",
       "      <th>lifespan</th>\n",
       "      <th>eco_category</th>\n",
       "      <th>features</th>\n",
       "      <th>accessories</th>\n",
       "      <th>indicative_price</th>\n",
       "      <th>price</th>\n",
       "    </tr>\n",
       "  </thead>\n",
       "  <tbody>\n",
       "    <tr>\n",
       "      <th>0</th>\n",
       "      <td>1030324</td>\n",
       "      <td>BMW 3 Series 320i Gran Turismo M-Sport</td>\n",
       "      <td>bmw</td>\n",
       "      <td>320i</td>\n",
       "      <td>1 owner! 320i gt m-sports model! big brake kit...</td>\n",
       "      <td>2013.0</td>\n",
       "      <td>NaN</td>\n",
       "      <td>09-dec-2013</td>\n",
       "      <td>luxury sedan</td>\n",
       "      <td>parf car, premium ad car, low mileage car</td>\n",
       "      <td>...</td>\n",
       "      <td>73000.0</td>\n",
       "      <td>45330.0</td>\n",
       "      <td>50462.0</td>\n",
       "      <td>NaN</td>\n",
       "      <td>NaN</td>\n",
       "      <td>uncategorized</td>\n",
       "      <td>5 doors gt, powerful and fuel efficient 2.0l t...</td>\n",
       "      <td>bmw i-drive, navigation, bluetooth/aux/usb inp...</td>\n",
       "      <td>NaN</td>\n",
       "      <td>71300.0</td>\n",
       "    </tr>\n",
       "    <tr>\n",
       "      <th>1</th>\n",
       "      <td>1021510</td>\n",
       "      <td>Toyota Hiace 3.0M</td>\n",
       "      <td>NaN</td>\n",
       "      <td>hiace</td>\n",
       "      <td>high loan available! low mileage unit. wear an...</td>\n",
       "      <td>2014.0</td>\n",
       "      <td>NaN</td>\n",
       "      <td>26-jan-2015</td>\n",
       "      <td>van</td>\n",
       "      <td>premium ad car</td>\n",
       "      <td>...</td>\n",
       "      <td>110112.0</td>\n",
       "      <td>27502.0</td>\n",
       "      <td>1376.0</td>\n",
       "      <td>NaN</td>\n",
       "      <td>25-jan-2035</td>\n",
       "      <td>uncategorized</td>\n",
       "      <td>low mileage unit. well maintained vehicle. vie...</td>\n",
       "      <td>factory radio setting. front recording camera....</td>\n",
       "      <td>NaN</td>\n",
       "      <td>43800.0</td>\n",
       "    </tr>\n",
       "    <tr>\n",
       "      <th>2</th>\n",
       "      <td>1026909</td>\n",
       "      <td>Mercedes-Benz CLA-Class CLA180</td>\n",
       "      <td>mercedes-benz</td>\n",
       "      <td>cla180</td>\n",
       "      <td>1 owner c&amp;c unit. full agent service with 1 mo...</td>\n",
       "      <td>2016.0</td>\n",
       "      <td>NaN</td>\n",
       "      <td>25-jul-2016</td>\n",
       "      <td>luxury sedan</td>\n",
       "      <td>parf car, premium ad car</td>\n",
       "      <td>...</td>\n",
       "      <td>80000.0</td>\n",
       "      <td>27886.0</td>\n",
       "      <td>26041.0</td>\n",
       "      <td>NaN</td>\n",
       "      <td>NaN</td>\n",
       "      <td>uncategorized</td>\n",
       "      <td>responsive and fuel efficient 1.6l inline 4 cy...</td>\n",
       "      <td>dual electric/memory seats. factory fitted aud...</td>\n",
       "      <td>NaN</td>\n",
       "      <td>95500.0</td>\n",
       "    </tr>\n",
       "    <tr>\n",
       "      <th>3</th>\n",
       "      <td>1019371</td>\n",
       "      <td>Mercedes-Benz E-Class E180 Avantgarde</td>\n",
       "      <td>mercedes-benz</td>\n",
       "      <td>e180</td>\n",
       "      <td>fully agent maintained, 3 years warranty 10 ye...</td>\n",
       "      <td>2019.0</td>\n",
       "      <td>NaN</td>\n",
       "      <td>17-nov-2020</td>\n",
       "      <td>luxury sedan</td>\n",
       "      <td>parf car, almost new car, consignment car</td>\n",
       "      <td>...</td>\n",
       "      <td>9800.0</td>\n",
       "      <td>46412.0</td>\n",
       "      <td>56977.0</td>\n",
       "      <td>NaN</td>\n",
       "      <td>NaN</td>\n",
       "      <td>uncategorized</td>\n",
       "      <td>1.5l inline-4 twin scroll turbocharged engine,...</td>\n",
       "      <td>64 colour ambient lighting. active parking ass...</td>\n",
       "      <td>NaN</td>\n",
       "      <td>197900.0</td>\n",
       "    </tr>\n",
       "    <tr>\n",
       "      <th>4</th>\n",
       "      <td>1031014</td>\n",
       "      <td>Honda Civic 1.6A VTi</td>\n",
       "      <td>NaN</td>\n",
       "      <td>civic</td>\n",
       "      <td>kah motor unit! 1 owner, lowest 1.98% for full...</td>\n",
       "      <td>2019.0</td>\n",
       "      <td>NaN</td>\n",
       "      <td>20-sep-2019</td>\n",
       "      <td>mid-sized sedan</td>\n",
       "      <td>parf car</td>\n",
       "      <td>...</td>\n",
       "      <td>40000.0</td>\n",
       "      <td>20072.0</td>\n",
       "      <td>20101.0</td>\n",
       "      <td>NaN</td>\n",
       "      <td>NaN</td>\n",
       "      <td>uncategorized</td>\n",
       "      <td>1.6l i-vtec engine, 123 bhp, earth dreams cvt ...</td>\n",
       "      <td>s/rims, premium leather seats, factory touch s...</td>\n",
       "      <td>NaN</td>\n",
       "      <td>103200.0</td>\n",
       "    </tr>\n",
       "  </tbody>\n",
       "</table>\n",
       "<p>5 rows × 30 columns</p>\n",
       "</div>"
      ],
      "text/plain": [
       "   listing_id                                   title           make   model  \\\n",
       "0     1030324  BMW 3 Series 320i Gran Turismo M-Sport            bmw    320i   \n",
       "1     1021510                       Toyota Hiace 3.0M            NaN   hiace   \n",
       "2     1026909          Mercedes-Benz CLA-Class CLA180  mercedes-benz  cla180   \n",
       "3     1019371   Mercedes-Benz E-Class E180 Avantgarde  mercedes-benz    e180   \n",
       "4     1031014                    Honda Civic 1.6A VTi            NaN   civic   \n",
       "\n",
       "                                         description  manufactured  \\\n",
       "0  1 owner! 320i gt m-sports model! big brake kit...        2013.0   \n",
       "1  high loan available! low mileage unit. wear an...        2014.0   \n",
       "2  1 owner c&c unit. full agent service with 1 mo...        2016.0   \n",
       "3  fully agent maintained, 3 years warranty 10 ye...        2019.0   \n",
       "4  kah motor unit! 1 owner, lowest 1.98% for full...        2019.0   \n",
       "\n",
       "  original_reg_date     reg_date  type_of_vehicle  \\\n",
       "0               NaN  09-dec-2013     luxury sedan   \n",
       "1               NaN  26-jan-2015              van   \n",
       "2               NaN  25-jul-2016     luxury sedan   \n",
       "3               NaN  17-nov-2020     luxury sedan   \n",
       "4               NaN  20-sep-2019  mid-sized sedan   \n",
       "\n",
       "                                    category  ...   mileage      omv      arf  \\\n",
       "0  parf car, premium ad car, low mileage car  ...   73000.0  45330.0  50462.0   \n",
       "1                             premium ad car  ...  110112.0  27502.0   1376.0   \n",
       "2                   parf car, premium ad car  ...   80000.0  27886.0  26041.0   \n",
       "3  parf car, almost new car, consignment car  ...    9800.0  46412.0  56977.0   \n",
       "4                                   parf car  ...   40000.0  20072.0  20101.0   \n",
       "\n",
       "  opc_scheme     lifespan   eco_category  \\\n",
       "0        NaN          NaN  uncategorized   \n",
       "1        NaN  25-jan-2035  uncategorized   \n",
       "2        NaN          NaN  uncategorized   \n",
       "3        NaN          NaN  uncategorized   \n",
       "4        NaN          NaN  uncategorized   \n",
       "\n",
       "                                            features  \\\n",
       "0  5 doors gt, powerful and fuel efficient 2.0l t...   \n",
       "1  low mileage unit. well maintained vehicle. vie...   \n",
       "2  responsive and fuel efficient 1.6l inline 4 cy...   \n",
       "3  1.5l inline-4 twin scroll turbocharged engine,...   \n",
       "4  1.6l i-vtec engine, 123 bhp, earth dreams cvt ...   \n",
       "\n",
       "                                         accessories  indicative_price  \\\n",
       "0  bmw i-drive, navigation, bluetooth/aux/usb inp...               NaN   \n",
       "1  factory radio setting. front recording camera....               NaN   \n",
       "2  dual electric/memory seats. factory fitted aud...               NaN   \n",
       "3  64 colour ambient lighting. active parking ass...               NaN   \n",
       "4  s/rims, premium leather seats, factory touch s...               NaN   \n",
       "\n",
       "      price  \n",
       "0   71300.0  \n",
       "1   43800.0  \n",
       "2   95500.0  \n",
       "3  197900.0  \n",
       "4  103200.0  \n",
       "\n",
       "[5 rows x 30 columns]"
      ]
     },
     "execution_count": 6,
     "metadata": {},
     "output_type": "execute_result"
    }
   ],
   "source": [
    "df_test_raw = pd.read_csv(const.TEST_PATH)\n",
    "df_train_raw = pd.read_csv(const.TRAIN_PATH)\n",
    "df_train_raw.head()"
   ]
  },
  {
   "cell_type": "code",
   "execution_count": 10,
   "metadata": {},
   "outputs": [],
   "source": [
    "df_train = cleaner.clean_preliminary(df_train_raw)\n",
    "df_test = cleaner.clean_preliminary(df_test_raw, is_test=True)"
   ]
  },
  {
   "cell_type": "markdown",
   "metadata": {},
   "source": [
    "### Train"
   ]
  },
  {
   "cell_type": "code",
   "execution_count": 11,
   "metadata": {},
   "outputs": [
    {
     "name": "stdout",
     "output_type": "stream",
     "text": [
      "CPU times: user 1.34 ms, sys: 355 ms, total: 357 ms\n",
      "Wall time: 356 ms\n"
     ]
    }
   ],
   "source": [
    "%%time\n",
    "\n",
    "if const.GENERATE_SIM_DF:\n",
    "    # Wall time: 3h 59min 32s\n",
    "    sim_df = sim.compute_similarities(df_train, df_train)\n",
    "    sim_df.to_pickle(const.MOST_SIMILIAR_TRAIN_PATH)\n",
    "else:\n",
    "    sim_df = pd.read_pickle(const.MOST_SIMILIAR_TRAIN_PATH)"
   ]
  },
  {
   "cell_type": "code",
   "execution_count": 12,
   "metadata": {},
   "outputs": [
    {
     "name": "stdout",
     "output_type": "stream",
     "text": [
      "Getting top k most similar...\n"
     ]
    },
    {
     "name": "stderr",
     "output_type": "stream",
     "text": [
      "Computing weights: 100%|██████████| 5219/5219 [00:02<00:00, 1801.20it/s]\n",
      "Replacing NaN rows: 100%|██████████| 5219/5219 [00:59<00:00, 88.17it/s]\n"
     ]
    }
   ],
   "source": [
    "replaced_train = sim.replace_nan_with_most_similar(df_train, sim_df=sim_df, verbose=True)"
   ]
  },
  {
   "cell_type": "code",
   "execution_count": null,
   "metadata": {},
   "outputs": [],
   "source": [
    "# replaced_train.to_csv('data/train_sim_filled.csv')"
   ]
  },
  {
   "cell_type": "markdown",
   "metadata": {},
   "source": [
    "### Test"
   ]
  },
  {
   "cell_type": "code",
   "execution_count": 13,
   "metadata": {},
   "outputs": [
    {
     "name": "stdout",
     "output_type": "stream",
     "text": [
      "CPU times: user 1.37 ms, sys: 378 ms, total: 380 ms\n",
      "Wall time: 379 ms\n"
     ]
    }
   ],
   "source": [
    "%%time\n",
    "\n",
    "if const.GENERATE_SIM_DF:\n",
    "    # Wall time: 2h 39min 6s\n",
    "    sim_df_test = sim.compute_similarities(df_test, df_test)\n",
    "    sim_df_test.to_pickle(const.MOST_SIMILIAR_TEST_PATH)\n",
    "else:\n",
    "    sim_df_test = pd.read_pickle(const.MOST_SIMILIAR_TEST_PATH)"
   ]
  },
  {
   "cell_type": "code",
   "execution_count": 14,
   "metadata": {},
   "outputs": [
    {
     "name": "stdout",
     "output_type": "stream",
     "text": [
      "Getting top k most similar...\n"
     ]
    },
    {
     "name": "stderr",
     "output_type": "stream",
     "text": [
      "Computing weights: 100%|██████████| 5000/5000 [00:03<00:00, 1634.40it/s]\n",
      "Replacing NaN rows: 100%|██████████| 5000/5000 [00:37<00:00, 133.35it/s]\n"
     ]
    }
   ],
   "source": [
    "replaced_test = sim.replace_nan_with_most_similar(df_test, df_train, sim_df_test, verbose=True)"
   ]
  },
  {
   "cell_type": "code",
   "execution_count": null,
   "metadata": {},
   "outputs": [],
   "source": [
    "# replaced_test.to_csv('data/test_sim_filled.csv')"
   ]
  }
 ],
 "metadata": {
  "kernelspec": {
   "display_name": "Python 3",
   "language": "python",
   "name": "python3"
  },
  "language_info": {
   "codemirror_mode": {
    "name": "ipython",
    "version": 3
   },
   "file_extension": ".py",
   "mimetype": "text/x-python",
   "name": "python",
   "nbconvert_exporter": "python",
   "pygments_lexer": "ipython3",
   "version": "3.8.5"
  }
 },
 "nbformat": 4,
 "nbformat_minor": 4
}
