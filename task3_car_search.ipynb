{
 "cells": [
  {
   "cell_type": "markdown",
   "id": "8eb9d5c0",
   "metadata": {},
   "source": [
    "# Search Car Engine"
   ]
  },
  {
   "cell_type": "code",
   "execution_count": 2,
   "id": "c69db4ce",
   "metadata": {},
   "outputs": [],
   "source": [
    "from sentence_transformers import SentenceTransformer\n",
    "from constants import TITLE_TO_VEC_FILE\n",
    "\n",
    "import numpy as np"
   ]
  },
  {
   "cell_type": "code",
   "execution_count": 3,
   "id": "d88e4555",
   "metadata": {},
   "outputs": [],
   "source": [
    "class FindCar():\n",
    "    \n",
    "    def __init__(self):\n",
    "        tmp_item = np.load(TITLE_TO_VEC_FILE, allow_pickle=True).item()\n",
    "        self.title_embd_np_array = tmp_item[\"title_embd_array\"]\n",
    "        self.title_embd_norm_array = np.linalg.norm(self.title_embd_np_array, axis = 1)\n",
    "        self.index_to_title_dict = tmp_item[\"index_to_title_dict\"]\n",
    "        \n",
    "        self.encoder = SentenceTransformer('paraphrase-MiniLM-L6-v2')\n",
    "        \n",
    "    def recommend(self, query, top_k=5):\n",
    "        query_emb = self.encoder.encode([query]).squeeze()\n",
    "        output = ((self.title_embd_np_array @ query_emb)/self.title_embd_norm_array)/np.linalg.norm(query_emb)\n",
    "        output_1 = output.argsort()[:top_k]\n",
    "        \n",
    "        return [self.index_to_title_dict[index] for index in output_1]"
   ]
  },
  {
   "cell_type": "code",
   "execution_count": 4,
   "id": "a033464b",
   "metadata": {},
   "outputs": [],
   "source": [
    "Obj = FindCar()"
   ]
  },
  {
   "cell_type": "code",
   "execution_count": 7,
   "id": "4c72079f",
   "metadata": {},
   "outputs": [
    {
     "name": "stdout",
     "output_type": "stream",
     "text": [
      "perodua axia 1.0a advance\n",
      "ssangyong tivoli 1.5a deluxe\n",
      "mitsubishi fuso fighter fm65 (new 10-yr coe)\n",
      "maserati granturismo 4.2a (coe till 09/2030)\n",
      "suzuki swift 1.4a glx (coe till 05/2026)\n"
     ]
    }
   ],
   "source": [
    "query = \"show me a good l car.\"\n",
    "title_list = Obj.recommend(query)\n",
    "for title in title_list:\n",
    "    print(title)"
   ]
  },
  {
   "cell_type": "code",
   "execution_count": null,
   "id": "974c70e6",
   "metadata": {},
   "outputs": [],
   "source": [
    "perodua axia 1.0a advance\n",
    "perodua viva elite 1.0a ez (coe till 02/2025)\n",
    "maserati granturismo 4.2a (coe till 09/2030)\n",
    "ssangyong tivoli 1.5a deluxe\n",
    "suzuki swift 1.4a glx (coe till 05/2026)"
   ]
  },
  {
   "cell_type": "code",
   "execution_count": null,
   "id": "201caee0",
   "metadata": {},
   "outputs": [],
   "source": []
  },
  {
   "cell_type": "code",
   "execution_count": null,
   "id": "fa01280b",
   "metadata": {},
   "outputs": [],
   "source": []
  },
  {
   "cell_type": "markdown",
   "id": "4754d9a4",
   "metadata": {},
   "source": [
    "# Code to generate Title Embeddings\n",
    "This code does not need to run at evaluation or prediction time. It generates title embeddings only."
   ]
  },
  {
   "cell_type": "code",
   "execution_count": 1,
   "id": "aa4e0a56",
   "metadata": {},
   "outputs": [
    {
     "ename": "ModuleNotFoundError",
     "evalue": "No module named 'constant'",
     "output_type": "error",
     "traceback": [
      "\u001b[0;31m---------------------------------------------------------------------------\u001b[0m",
      "\u001b[0;31mModuleNotFoundError\u001b[0m                       Traceback (most recent call last)",
      "\u001b[0;32m<ipython-input-1-493ecb26c412>\u001b[0m in \u001b[0;36m<module>\u001b[0;34m\u001b[0m\n\u001b[1;32m      4\u001b[0m \u001b[0;34m\u001b[0m\u001b[0m\n\u001b[1;32m      5\u001b[0m \u001b[0;32mfrom\u001b[0m \u001b[0msentence_transformers\u001b[0m \u001b[0;32mimport\u001b[0m \u001b[0mSentenceTransformer\u001b[0m\u001b[0;34m\u001b[0m\u001b[0;34m\u001b[0m\u001b[0m\n\u001b[0;32m----> 6\u001b[0;31m \u001b[0;32mfrom\u001b[0m \u001b[0mconstant\u001b[0m \u001b[0;32mimport\u001b[0m \u001b[0mTRAIN_PATH\u001b[0m\u001b[0;34m,\u001b[0m \u001b[0mTITLE_TO_VEC_FILE\u001b[0m\u001b[0;34m\u001b[0m\u001b[0;34m\u001b[0m\u001b[0m\n\u001b[0m",
      "\u001b[0;31mModuleNotFoundError\u001b[0m: No module named 'constant'"
     ]
    }
   ],
   "source": [
    "import pandas as pd\n",
    "import numpy as np\n",
    "import json\n",
    "\n",
    "from sentence_transformers import SentenceTransformer\n",
    "from constant import TRAIN_PATH, TITLE_TO_VEC_FILE"
   ]
  },
  {
   "cell_type": "code",
   "execution_count": null,
   "id": "4c647cd1",
   "metadata": {},
   "outputs": [],
   "source": [
    "train_file = TRAIN_PATH\n",
    "\n",
    "train_df = pd.read_csv(train_file)\n",
    "train_df = train_df.drop(\"listing_id\", axis=1)"
   ]
  },
  {
   "cell_type": "code",
   "execution_count": null,
   "id": "5b64aae5",
   "metadata": {},
   "outputs": [],
   "source": [
    "def preprocess(entry):\n",
    "    return str(entry).lower().strip()"
   ]
  },
  {
   "cell_type": "code",
   "execution_count": null,
   "id": "dfd87dcd",
   "metadata": {},
   "outputs": [],
   "source": [
    "train_df.title = train_df.title.apply(preprocess)\n",
    "group_by_title = train_df.groupby(\"title\")\n",
    "\n",
    "title_to_data_dict = {}\n",
    "\n",
    "for key in group_by_title.groups.keys():\n",
    "    for index in group_by_title.groups.get(key):\n",
    "        tmp_list = []\n",
    "        for colm_value in list(train_df.iloc[index].items()):\n",
    "            tmp_list.append(\"{} is {} .\".format(colm_value[0], colm_value[1]))\n",
    "            \n",
    "        if key in title_to_data_dict:\n",
    "            title_to_data_dict[key].append(\" \".join(tmp_list))\n",
    "        else:\n",
    "            title_to_data_dict[key] = [\" \".join(tmp_list)]\n",
    "            \n",
    "with open(TITLE_TO_VEC_FILE, \"w\") as out_f:\n",
    "    out_f.write(json.dumps(title_to_data_dict))"
   ]
  },
  {
   "cell_type": "code",
   "execution_count": null,
   "id": "933f3415",
   "metadata": {},
   "outputs": [],
   "source": [
    "encoder = SentenceTransformer('paraphrase-MiniLM-L6-v2')"
   ]
  },
  {
   "cell_type": "code",
   "execution_count": null,
   "id": "e43a3c02",
   "metadata": {},
   "outputs": [],
   "source": [
    "title_to_mean_dict = {}\n",
    "\n",
    "for key in title_to_data_dict.keys():\n",
    "    mean_embd = np.mean(encoder.encode(title_to_data_dict[key]), axis=0)\n",
    "    title_to_mean_dict[key] = mean_embd\n",
    "    \n",
    "    \n",
    "index_to_title_dict = {}\n",
    "title_embd_list = []\n",
    "\n",
    "index = 0\n",
    "for key in title_to_mean_dict.keys():\n",
    "    title_embd_list.append(title_to_mean_dict[key])\n",
    "    index_to_title_dict[index] = key\n",
    "    index += 1\n",
    "    \n",
    "np.save(TITLE_TO_VEC_FILE, {\"title_embd_array\": np.array(title_embd_list), \"index_to_title_dict\": index_to_title_dict})"
   ]
  }
 ],
 "metadata": {
  "kernelspec": {
   "display_name": "Python 3",
   "language": "python",
   "name": "python3"
  },
  "language_info": {
   "codemirror_mode": {
    "name": "ipython",
    "version": 3
   },
   "file_extension": ".py",
   "mimetype": "text/x-python",
   "name": "python",
   "nbconvert_exporter": "python",
   "pygments_lexer": "ipython3",
   "version": "3.6.9"
  }
 },
 "nbformat": 4,
 "nbformat_minor": 5
}
