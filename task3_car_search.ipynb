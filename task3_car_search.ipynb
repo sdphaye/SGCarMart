{
 "cells": [
  {
   "cell_type": "markdown",
   "id": "8eb9d5c0",
   "metadata": {},
   "source": [
    "# Search Car Engine"
   ]
  },
  {
   "cell_type": "code",
   "execution_count": null,
   "id": "c69db4ce",
   "metadata": {},
   "outputs": [],
   "source": [
    "from sentence_transformers import SentenceTransformer\n",
    "from constantS import TITLE_TO_VEC_FILE\n",
    "\n",
    "import numpy as np"
   ]
  },
  {
   "cell_type": "code",
   "execution_count": null,
   "id": "d88e4555",
   "metadata": {},
   "outputs": [],
   "source": [
    "class FindCar():\n",
    "    \n",
    "    def __init__(self):\n",
    "        tmp_item = np.load(TITLE_TO_VEC_FILE, allow_pickle=True).item()\n",
    "        self.title_embd_np_array = tmp_item[\"title_embd_array\"]\n",
    "        self.title_embd_norm_array = np.linalg.norm(self.title_embd_np_array, axis = 1)\n",
    "        self.index_to_title_dict = tmp_item[\"index_to_title_dict\"]\n",
    "        \n",
    "        self.encoder = SentenceTransformer('paraphrase-MiniLM-L6-v2')\n",
    "        \n",
    "    def recommend(self, query, top_k=5):\n",
    "        query_emb = self.encoder.encode([query]).squeeze()\n",
    "        output = ((self.title_embd_np_array @ query_emb)/self.title_embd_norm_array)/np.linalg.norm(query_emb)\n",
    "        output_1 = output.argsort()[:top_k]\n",
    "        \n",
    "        return [self.index_to_title_dict[index] for index in output_1]"
   ]
  },
  {
   "cell_type": "code",
   "execution_count": null,
   "id": "a033464b",
   "metadata": {},
   "outputs": [],
   "source": [
    "Obj = FindCar()"
   ]
  },
  {
   "cell_type": "code",
   "execution_count": null,
   "id": "4c72079f",
   "metadata": {},
   "outputs": [],
   "source": [
    "title_list = Obj.recommend(query)\n",
    "for title in title_list:\n",
    "    print(title)"
   ]
  }
 ],
 "metadata": {
  "kernelspec": {
   "display_name": "Python 3",
   "language": "python",
   "name": "python3"
  },
  "language_info": {
   "codemirror_mode": {
    "name": "ipython",
    "version": 3
   },
   "file_extension": ".py",
   "mimetype": "text/x-python",
   "name": "python",
   "nbconvert_exporter": "python",
   "pygments_lexer": "ipython3",
   "version": "3.6.9"
  }
 },
 "nbformat": 4,
 "nbformat_minor": 5
}
