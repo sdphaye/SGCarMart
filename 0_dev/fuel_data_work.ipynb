{
 "cells": [
  {
   "cell_type": "code",
   "execution_count": 2,
   "metadata": {},
   "outputs": [],
   "source": [
    "import pandas as pd\n",
    "import numpy as np\n",
    "from datetime import datetime\n",
    "import httpx\n",
    "from bs4 import BeautifulSoup\n",
    "import re\n",
    "import time"
   ]
  },
  {
   "cell_type": "code",
   "execution_count": 3,
   "metadata": {},
   "outputs": [],
   "source": [
    "def get_carCode_from_listing(listing_id):\n",
    "    try:\n",
    "        r = httpx.get(\"https://www.sgcarmart.com/used_cars/info.php?ID=\"+str(listing_id))\n",
    "        content = BeautifulSoup(r.content, 'html.parser')\n",
    "        parent = content.find(class_=\"twoRow_info\")\n",
    "        link = parent.parent.find('a')\n",
    "        carCode = re.search(\"CarCode=(.+?)\\\"\",str(link)).group(1).replace(\"'\",\"\")\n",
    "    except Exception as e:\n",
    "        carCode = \"MISSING\"\n",
    "        #print(carCode)\n",
    "    return carCode"
   ]
  },
  {
   "cell_type": "code",
   "execution_count": 28,
   "metadata": {},
   "outputs": [],
   "source": [
    "dic_f ={}\n",
    "def get_fuel_type_on_carCode(carCode):\n",
    "    if carCode == \"MISSING\":\n",
    "        return \"MISSING CAR CODE\"\n",
    "    try:\n",
    "        if carCode in dic_f:\n",
    "            return dic_f[carCode]\n",
    "        query = \"https://www.sgcarmart.com/new_cars/newcars_specs.php?CarCode=\"+str(carCode)\n",
    "        r = httpx.get(query)\n",
    "        content = BeautifulSoup(r.content, 'html.parser')\n",
    "        fuel_type = content.find('td', text='Fuel type').nextSibling.nextSibling.text\n",
    "        dic_f[carCode] = fuel_type\n",
    "    except Exception as e:\n",
    "        fuel_type = \"ERROR ON SCRAPING PAGE\"\n",
    "    \n",
    "    return fuel_type"
   ]
  },
  {
   "cell_type": "code",
   "execution_count": 33,
   "metadata": {},
   "outputs": [],
   "source": [
    "def get_fuel_value(x):\n",
    "    if 'petrol-electric' in str.lower(x):\n",
    "        return \"petrol-electric\"\n",
    "    if 'diesel' in str.lower(x):\n",
    "        return 'diesel'\n",
    "    if 'electric' in str.lower(x):\n",
    "        return 'electric'\n",
    "    if 'petrol' in str.lower(x):\n",
    "        return 'petrol'\n",
    "    return ''"
   ]
  },
  {
   "cell_type": "code",
   "execution_count": 30,
   "metadata": {},
   "outputs": [
    {
     "name": "stdout",
     "output_type": "stream",
     "text": [
      "7616.4819185733795\n"
     ]
    }
   ],
   "source": [
    "df_train = pd.read_csv(\"./train.csv\")\n",
    "df_test = pd.read_csv(\"./test.csv\")\n",
    "df_f = pd.concat([df_train, df_test])[[\"listing_id\",\"fuel_type\"]].reset_index().drop(columns=\"index\")\n",
    "a = time.time()\n",
    "df_f[\"CarCode\"] = df_f.listing_id.apply(get_carCode_from_listing)\n",
    "print(time.time()-a)"
   ]
  },
  {
   "cell_type": "code",
   "execution_count": 31,
   "metadata": {},
   "outputs": [],
   "source": [
    "df_f.to_csv(\"data_listing_carcode\")"
   ]
  },
  {
   "cell_type": "code",
   "execution_count": 40,
   "metadata": {},
   "outputs": [],
   "source": [
    "df_f[\"extracted_fuel_type\"] = df_f.CarCode.apply(get_fuel_type_on_carCode)"
   ]
  },
  {
   "cell_type": "code",
   "execution_count": 43,
   "metadata": {},
   "outputs": [],
   "source": [
    "df_f[\"extracted_fuel_type_standardized\"] = df_f.extracted_fuel_type.apply(get_fuel_value)"
   ]
  },
  {
   "cell_type": "code",
   "execution_count": 42,
   "metadata": {},
   "outputs": [
    {
     "data": {
      "text/plain": [
       "Petrol              14511\n",
       "MISSING CAR CODE     4720\n",
       "Diesel (Euro VI)      956\n",
       "Petrol-Electric       921\n",
       "Diesel (Euro V)       590\n",
       "Diesel (Euro IV)       60\n",
       "Electric               26\n",
       "Name: extracted_fuel_type, dtype: int64"
      ]
     },
     "execution_count": 42,
     "metadata": {},
     "output_type": "execute_result"
    }
   ],
   "source": [
    "df_f.extracted_fuel_type.value_counts()"
   ]
  },
  {
   "cell_type": "code",
   "execution_count": 44,
   "metadata": {},
   "outputs": [
    {
     "data": {
      "text/plain": [
       "petrol             14511\n",
       "                    4720\n",
       "diesel              1606\n",
       "petrol-electric      921\n",
       "electric              26\n",
       "Name: extracted_fuel_type_standardized, dtype: int64"
      ]
     },
     "execution_count": 44,
     "metadata": {},
     "output_type": "execute_result"
    }
   ],
   "source": [
    "df_f.extracted_fuel_type_standardized.value_counts()"
   ]
  },
  {
   "cell_type": "code",
   "execution_count": 47,
   "metadata": {},
   "outputs": [
    {
     "data": {
      "text/plain": [
       "NaN                17243\n",
       "diesel              2727\n",
       "petrol-electric     1347\n",
       "petrol               399\n",
       "electric              68\n",
       "Name: fuel_type, dtype: int64"
      ]
     },
     "execution_count": 47,
     "metadata": {},
     "output_type": "execute_result"
    }
   ],
   "source": [
    "df_f.fuel_type.value_counts(dropna=False)"
   ]
  },
  {
   "cell_type": "code",
   "execution_count": 46,
   "metadata": {},
   "outputs": [],
   "source": [
    "df_f.to_csv(\"extracted_fuel_type.csv\")"
   ]
  },
  {
   "cell_type": "code",
   "execution_count": 52,
   "metadata": {},
   "outputs": [],
   "source": [
    "df_f = pd.read_csv(\"extracted_fuel_type.csv\")"
   ]
  },
  {
   "cell_type": "code",
   "execution_count": 53,
   "metadata": {},
   "outputs": [],
   "source": [
    "df_f.fuel_type =df_f.fuel_type.fillna(df_f.extracted_fuel_type_standardized)"
   ]
  },
  {
   "cell_type": "code",
   "execution_count": 54,
   "metadata": {},
   "outputs": [
    {
     "data": {
      "text/plain": [
       "petrol             14547\n",
       "NaN                 3057\n",
       "diesel              2734\n",
       "petrol-electric     1378\n",
       "electric              68\n",
       "Name: fuel_type, dtype: int64"
      ]
     },
     "execution_count": 54,
     "metadata": {},
     "output_type": "execute_result"
    }
   ],
   "source": [
    "df_f.fuel_type.value_counts(dropna=False)"
   ]
  },
  {
   "cell_type": "code",
   "execution_count": 55,
   "metadata": {},
   "outputs": [
    {
     "data": {
      "text/html": [
       "<div>\n",
       "<style scoped>\n",
       "    .dataframe tbody tr th:only-of-type {\n",
       "        vertical-align: middle;\n",
       "    }\n",
       "\n",
       "    .dataframe tbody tr th {\n",
       "        vertical-align: top;\n",
       "    }\n",
       "\n",
       "    .dataframe thead th {\n",
       "        text-align: right;\n",
       "    }\n",
       "</style>\n",
       "<table border=\"1\" class=\"dataframe\">\n",
       "  <thead>\n",
       "    <tr style=\"text-align: right;\">\n",
       "      <th></th>\n",
       "      <th>Unnamed: 0</th>\n",
       "      <th>listing_id</th>\n",
       "      <th>fuel_type</th>\n",
       "      <th>CarCode</th>\n",
       "      <th>extracted_fuel_type</th>\n",
       "      <th>extracted_fuel_type_standardized</th>\n",
       "    </tr>\n",
       "  </thead>\n",
       "  <tbody>\n",
       "    <tr>\n",
       "      <th>0</th>\n",
       "      <td>0</td>\n",
       "      <td>1030324</td>\n",
       "      <td>petrol</td>\n",
       "      <td>11382</td>\n",
       "      <td>Petrol</td>\n",
       "      <td>petrol</td>\n",
       "    </tr>\n",
       "    <tr>\n",
       "      <th>1</th>\n",
       "      <td>1</td>\n",
       "      <td>1021510</td>\n",
       "      <td>diesel</td>\n",
       "      <td>MISSING</td>\n",
       "      <td>MISSING CAR CODE</td>\n",
       "      <td>NaN</td>\n",
       "    </tr>\n",
       "    <tr>\n",
       "      <th>2</th>\n",
       "      <td>2</td>\n",
       "      <td>1026909</td>\n",
       "      <td>petrol</td>\n",
       "      <td>11386</td>\n",
       "      <td>Petrol</td>\n",
       "      <td>petrol</td>\n",
       "    </tr>\n",
       "    <tr>\n",
       "      <th>3</th>\n",
       "      <td>3</td>\n",
       "      <td>1019371</td>\n",
       "      <td>petrol</td>\n",
       "      <td>11846</td>\n",
       "      <td>Petrol</td>\n",
       "      <td>petrol</td>\n",
       "    </tr>\n",
       "    <tr>\n",
       "      <th>4</th>\n",
       "      <td>4</td>\n",
       "      <td>1031014</td>\n",
       "      <td>petrol</td>\n",
       "      <td>11875</td>\n",
       "      <td>Petrol</td>\n",
       "      <td>petrol</td>\n",
       "    </tr>\n",
       "    <tr>\n",
       "      <th>...</th>\n",
       "      <td>...</td>\n",
       "      <td>...</td>\n",
       "      <td>...</td>\n",
       "      <td>...</td>\n",
       "      <td>...</td>\n",
       "      <td>...</td>\n",
       "    </tr>\n",
       "    <tr>\n",
       "      <th>21779</th>\n",
       "      <td>21779</td>\n",
       "      <td>1010230</td>\n",
       "      <td>petrol</td>\n",
       "      <td>11998</td>\n",
       "      <td>Petrol</td>\n",
       "      <td>petrol</td>\n",
       "    </tr>\n",
       "    <tr>\n",
       "      <th>21780</th>\n",
       "      <td>21780</td>\n",
       "      <td>1001823</td>\n",
       "      <td>petrol</td>\n",
       "      <td>10275</td>\n",
       "      <td>Petrol</td>\n",
       "      <td>petrol</td>\n",
       "    </tr>\n",
       "    <tr>\n",
       "      <th>21781</th>\n",
       "      <td>21781</td>\n",
       "      <td>1027276</td>\n",
       "      <td>petrol</td>\n",
       "      <td>11125</td>\n",
       "      <td>Petrol</td>\n",
       "      <td>petrol</td>\n",
       "    </tr>\n",
       "    <tr>\n",
       "      <th>21782</th>\n",
       "      <td>21782</td>\n",
       "      <td>1019321</td>\n",
       "      <td>petrol</td>\n",
       "      <td>11643</td>\n",
       "      <td>Petrol</td>\n",
       "      <td>petrol</td>\n",
       "    </tr>\n",
       "    <tr>\n",
       "      <th>21783</th>\n",
       "      <td>21783</td>\n",
       "      <td>1030594</td>\n",
       "      <td>petrol</td>\n",
       "      <td>10128</td>\n",
       "      <td>Petrol</td>\n",
       "      <td>petrol</td>\n",
       "    </tr>\n",
       "  </tbody>\n",
       "</table>\n",
       "<p>21784 rows × 6 columns</p>\n",
       "</div>"
      ],
      "text/plain": [
       "       Unnamed: 0  listing_id fuel_type  CarCode extracted_fuel_type  \\\n",
       "0               0     1030324    petrol    11382              Petrol   \n",
       "1               1     1021510    diesel  MISSING    MISSING CAR CODE   \n",
       "2               2     1026909    petrol    11386              Petrol   \n",
       "3               3     1019371    petrol    11846              Petrol   \n",
       "4               4     1031014    petrol    11875              Petrol   \n",
       "...           ...         ...       ...      ...                 ...   \n",
       "21779       21779     1010230    petrol    11998              Petrol   \n",
       "21780       21780     1001823    petrol    10275              Petrol   \n",
       "21781       21781     1027276    petrol    11125              Petrol   \n",
       "21782       21782     1019321    petrol    11643              Petrol   \n",
       "21783       21783     1030594    petrol    10128              Petrol   \n",
       "\n",
       "      extracted_fuel_type_standardized  \n",
       "0                               petrol  \n",
       "1                                  NaN  \n",
       "2                               petrol  \n",
       "3                               petrol  \n",
       "4                               petrol  \n",
       "...                                ...  \n",
       "21779                           petrol  \n",
       "21780                           petrol  \n",
       "21781                           petrol  \n",
       "21782                           petrol  \n",
       "21783                           petrol  \n",
       "\n",
       "[21784 rows x 6 columns]"
      ]
     },
     "execution_count": 55,
     "metadata": {},
     "output_type": "execute_result"
    }
   ],
   "source": [
    "df_f"
   ]
  },
  {
   "cell_type": "code",
   "execution_count": 56,
   "metadata": {},
   "outputs": [
    {
     "ename": "ValueError",
     "evalue": "DataFrame index must be unique for orient='columns'.",
     "output_type": "error",
     "traceback": [
      "\u001b[0;31m---------------------------------------------------------------------------\u001b[0m",
      "\u001b[0;31mValueError\u001b[0m                                Traceback (most recent call last)",
      "\u001b[0;32m<ipython-input-56-9c423cde923b>\u001b[0m in \u001b[0;36m<module>\u001b[0;34m\u001b[0m\n\u001b[0;32m----> 1\u001b[0;31m \u001b[0mdf_f\u001b[0m\u001b[0;34m[\u001b[0m\u001b[0;34m[\u001b[0m\u001b[0;34m\"listing_id\"\u001b[0m\u001b[0;34m,\u001b[0m \u001b[0;34m\"fuel_type\"\u001b[0m\u001b[0;34m]\u001b[0m\u001b[0;34m]\u001b[0m\u001b[0;34m.\u001b[0m\u001b[0mset_index\u001b[0m\u001b[0;34m(\u001b[0m\u001b[0;34m'listing_id'\u001b[0m\u001b[0;34m)\u001b[0m\u001b[0;34m.\u001b[0m\u001b[0mto_json\u001b[0m\u001b[0;34m(\u001b[0m\u001b[0;34m'listing_id_TO_fuel_type.json'\u001b[0m\u001b[0;34m)\u001b[0m\u001b[0;34m\u001b[0m\u001b[0;34m\u001b[0m\u001b[0m\n\u001b[0m",
      "\u001b[0;32m~/anaconda3/lib/python3.8/site-packages/pandas/core/generic.py\u001b[0m in \u001b[0;36mto_json\u001b[0;34m(self, path_or_buf, orient, date_format, double_precision, force_ascii, date_unit, default_handler, lines, compression, index, indent)\u001b[0m\n\u001b[1;32m   2350\u001b[0m         \u001b[0mindent\u001b[0m \u001b[0;34m=\u001b[0m \u001b[0mindent\u001b[0m \u001b[0;32mor\u001b[0m \u001b[0;36m0\u001b[0m\u001b[0;34m\u001b[0m\u001b[0;34m\u001b[0m\u001b[0m\n\u001b[1;32m   2351\u001b[0m \u001b[0;34m\u001b[0m\u001b[0m\n\u001b[0;32m-> 2352\u001b[0;31m         return json.to_json(\n\u001b[0m\u001b[1;32m   2353\u001b[0m             \u001b[0mpath_or_buf\u001b[0m\u001b[0;34m=\u001b[0m\u001b[0mpath_or_buf\u001b[0m\u001b[0;34m,\u001b[0m\u001b[0;34m\u001b[0m\u001b[0;34m\u001b[0m\u001b[0m\n\u001b[1;32m   2354\u001b[0m             \u001b[0mobj\u001b[0m\u001b[0;34m=\u001b[0m\u001b[0mself\u001b[0m\u001b[0;34m,\u001b[0m\u001b[0;34m\u001b[0m\u001b[0;34m\u001b[0m\u001b[0m\n",
      "\u001b[0;32m~/anaconda3/lib/python3.8/site-packages/pandas/io/json/_json.py\u001b[0m in \u001b[0;36mto_json\u001b[0;34m(path_or_buf, obj, orient, date_format, double_precision, force_ascii, date_unit, default_handler, lines, compression, index, indent)\u001b[0m\n\u001b[1;32m     74\u001b[0m         \u001b[0;32mraise\u001b[0m \u001b[0mNotImplementedError\u001b[0m\u001b[0;34m(\u001b[0m\u001b[0;34m\"'obj' should be a Series or a DataFrame\"\u001b[0m\u001b[0;34m)\u001b[0m\u001b[0;34m\u001b[0m\u001b[0;34m\u001b[0m\u001b[0m\n\u001b[1;32m     75\u001b[0m \u001b[0;34m\u001b[0m\u001b[0m\n\u001b[0;32m---> 76\u001b[0;31m     s = writer(\n\u001b[0m\u001b[1;32m     77\u001b[0m         \u001b[0mobj\u001b[0m\u001b[0;34m,\u001b[0m\u001b[0;34m\u001b[0m\u001b[0;34m\u001b[0m\u001b[0m\n\u001b[1;32m     78\u001b[0m         \u001b[0morient\u001b[0m\u001b[0;34m=\u001b[0m\u001b[0morient\u001b[0m\u001b[0;34m,\u001b[0m\u001b[0;34m\u001b[0m\u001b[0;34m\u001b[0m\u001b[0m\n",
      "\u001b[0;32m~/anaconda3/lib/python3.8/site-packages/pandas/io/json/_json.py\u001b[0m in \u001b[0;36m__init__\u001b[0;34m(self, obj, orient, date_format, double_precision, ensure_ascii, date_unit, index, default_handler, indent)\u001b[0m\n\u001b[1;32m    129\u001b[0m \u001b[0;34m\u001b[0m\u001b[0m\n\u001b[1;32m    130\u001b[0m         \u001b[0mself\u001b[0m\u001b[0;34m.\u001b[0m\u001b[0mis_copy\u001b[0m \u001b[0;34m=\u001b[0m \u001b[0;32mNone\u001b[0m\u001b[0;34m\u001b[0m\u001b[0;34m\u001b[0m\u001b[0m\n\u001b[0;32m--> 131\u001b[0;31m         \u001b[0mself\u001b[0m\u001b[0;34m.\u001b[0m\u001b[0m_format_axes\u001b[0m\u001b[0;34m(\u001b[0m\u001b[0;34m)\u001b[0m\u001b[0;34m\u001b[0m\u001b[0;34m\u001b[0m\u001b[0m\n\u001b[0m\u001b[1;32m    132\u001b[0m \u001b[0;34m\u001b[0m\u001b[0m\n\u001b[1;32m    133\u001b[0m     \u001b[0;32mdef\u001b[0m \u001b[0m_format_axes\u001b[0m\u001b[0;34m(\u001b[0m\u001b[0mself\u001b[0m\u001b[0;34m)\u001b[0m\u001b[0;34m:\u001b[0m\u001b[0;34m\u001b[0m\u001b[0;34m\u001b[0m\u001b[0m\n",
      "\u001b[0;32m~/anaconda3/lib/python3.8/site-packages/pandas/io/json/_json.py\u001b[0m in \u001b[0;36m_format_axes\u001b[0;34m(self)\u001b[0m\n\u001b[1;32m    209\u001b[0m         \"\"\"\n\u001b[1;32m    210\u001b[0m         \u001b[0;32mif\u001b[0m \u001b[0;32mnot\u001b[0m \u001b[0mself\u001b[0m\u001b[0;34m.\u001b[0m\u001b[0mobj\u001b[0m\u001b[0;34m.\u001b[0m\u001b[0mindex\u001b[0m\u001b[0;34m.\u001b[0m\u001b[0mis_unique\u001b[0m \u001b[0;32mand\u001b[0m \u001b[0mself\u001b[0m\u001b[0;34m.\u001b[0m\u001b[0morient\u001b[0m \u001b[0;32min\u001b[0m \u001b[0;34m(\u001b[0m\u001b[0;34m\"index\"\u001b[0m\u001b[0;34m,\u001b[0m \u001b[0;34m\"columns\"\u001b[0m\u001b[0;34m)\u001b[0m\u001b[0;34m:\u001b[0m\u001b[0;34m\u001b[0m\u001b[0;34m\u001b[0m\u001b[0m\n\u001b[0;32m--> 211\u001b[0;31m             raise ValueError(\n\u001b[0m\u001b[1;32m    212\u001b[0m                 \u001b[0;34mf\"DataFrame index must be unique for orient='{self.orient}'.\"\u001b[0m\u001b[0;34m\u001b[0m\u001b[0;34m\u001b[0m\u001b[0m\n\u001b[1;32m    213\u001b[0m             )\n",
      "\u001b[0;31mValueError\u001b[0m: DataFrame index must be unique for orient='columns'."
     ]
    }
   ],
   "source": [
    "df_f[[\"listing_id\", \"fuel_type\"]].set_index('listing_id').to_json('listing_id_TO_fuel_type.json')"
   ]
  },
  {
   "cell_type": "code",
   "execution_count": 84,
   "metadata": {},
   "outputs": [],
   "source": [
    "df_f.drop(columns=[\"Unnamed: 0\"]).drop_duplicates(subset=['listing_id'], keep='last')[[\"listing_id\", \"fuel_type\"]].set_index('listing_id').to_json('listing_id_TO_fuel_type.json')"
   ]
  },
  {
   "cell_type": "code",
   "execution_count": 81,
   "metadata": {},
   "outputs": [
    {
     "data": {
      "text/html": [
       "<div>\n",
       "<style scoped>\n",
       "    .dataframe tbody tr th:only-of-type {\n",
       "        vertical-align: middle;\n",
       "    }\n",
       "\n",
       "    .dataframe tbody tr th {\n",
       "        vertical-align: top;\n",
       "    }\n",
       "\n",
       "    .dataframe thead th {\n",
       "        text-align: right;\n",
       "    }\n",
       "</style>\n",
       "<table border=\"1\" class=\"dataframe\">\n",
       "  <thead>\n",
       "    <tr style=\"text-align: right;\">\n",
       "      <th></th>\n",
       "      <th>Unnamed: 0</th>\n",
       "      <th>listing_id</th>\n",
       "      <th>fuel_type</th>\n",
       "      <th>CarCode</th>\n",
       "      <th>extracted_fuel_type</th>\n",
       "      <th>extracted_fuel_type_standardized</th>\n",
       "    </tr>\n",
       "  </thead>\n",
       "  <tbody>\n",
       "    <tr>\n",
       "      <th>16294</th>\n",
       "      <td>16294</td>\n",
       "      <td>1024788</td>\n",
       "      <td>petrol</td>\n",
       "      <td>11806</td>\n",
       "      <td>Petrol</td>\n",
       "      <td>petrol</td>\n",
       "    </tr>\n",
       "    <tr>\n",
       "      <th>17389</th>\n",
       "      <td>17389</td>\n",
       "      <td>1024788</td>\n",
       "      <td>petrol-electric</td>\n",
       "      <td>11806</td>\n",
       "      <td>Petrol</td>\n",
       "      <td>petrol</td>\n",
       "    </tr>\n",
       "  </tbody>\n",
       "</table>\n",
       "</div>"
      ],
      "text/plain": [
       "       Unnamed: 0  listing_id        fuel_type CarCode extracted_fuel_type  \\\n",
       "16294       16294     1024788           petrol   11806              Petrol   \n",
       "17389       17389     1024788  petrol-electric   11806              Petrol   \n",
       "\n",
       "      extracted_fuel_type_standardized  \n",
       "16294                           petrol  \n",
       "17389                           petrol  "
      ]
     },
     "execution_count": 81,
     "metadata": {},
     "output_type": "execute_result"
    }
   ],
   "source": [
    "df_f[df_f.listing_id == 1024788]"
   ]
  }
 ],
 "metadata": {
  "kernelspec": {
   "display_name": "Python 3",
   "language": "python",
   "name": "python3"
  },
  "language_info": {
   "codemirror_mode": {
    "name": "ipython",
    "version": 3
   },
   "file_extension": ".py",
   "mimetype": "text/x-python",
   "name": "python",
   "nbconvert_exporter": "python",
   "pygments_lexer": "ipython3",
   "version": "3.8.3"
  }
 },
 "nbformat": 4,
 "nbformat_minor": 4
}
