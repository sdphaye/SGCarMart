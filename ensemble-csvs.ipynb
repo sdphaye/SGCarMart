{
 "cells": [
  {
   "cell_type": "code",
   "execution_count": 14,
   "metadata": {},
   "outputs": [],
   "source": [
    "import numpy as np\n",
    "import pandas as pd\n",
    "import re\n",
    "from glob import glob\n",
    "\n",
    "from utils import preds_to_csv"
   ]
  },
  {
   "cell_type": "code",
   "execution_count": 15,
   "metadata": {},
   "outputs": [],
   "source": [
    "dataset_re = re.compile(r'\\./preds/(.+)\\.csv')"
   ]
  },
  {
   "cell_type": "code",
   "execution_count": 17,
   "metadata": {},
   "outputs": [
    {
     "data": {
      "text/html": [
       "<div>\n",
       "<style scoped>\n",
       "    .dataframe tbody tr th:only-of-type {\n",
       "        vertical-align: middle;\n",
       "    }\n",
       "\n",
       "    .dataframe tbody tr th {\n",
       "        vertical-align: top;\n",
       "    }\n",
       "\n",
       "    .dataframe thead th {\n",
       "        text-align: right;\n",
       "    }\n",
       "</style>\n",
       "<table border=\"1\" class=\"dataframe\">\n",
       "  <thead>\n",
       "    <tr style=\"text-align: right;\">\n",
       "      <th></th>\n",
       "      <th>gb_random_search</th>\n",
       "      <th>gb_random_search_scaled</th>\n",
       "      <th>preds_sim</th>\n",
       "      <th>rf_random_search</th>\n",
       "      <th>rf_random_search_scaled</th>\n",
       "      <th>submission_test_barexgb</th>\n",
       "    </tr>\n",
       "  </thead>\n",
       "  <tbody>\n",
       "    <tr>\n",
       "      <th>0</th>\n",
       "      <td>143366.036318</td>\n",
       "      <td>137760.633921</td>\n",
       "      <td>133737.818607</td>\n",
       "      <td>114516.178193</td>\n",
       "      <td>113426.848883</td>\n",
       "      <td>154131.020</td>\n",
       "    </tr>\n",
       "    <tr>\n",
       "      <th>1</th>\n",
       "      <td>237626.923868</td>\n",
       "      <td>252934.839776</td>\n",
       "      <td>278194.553710</td>\n",
       "      <td>209273.068784</td>\n",
       "      <td>207234.653048</td>\n",
       "      <td>259285.360</td>\n",
       "    </tr>\n",
       "    <tr>\n",
       "      <th>2</th>\n",
       "      <td>216075.399560</td>\n",
       "      <td>216487.633953</td>\n",
       "      <td>191276.404977</td>\n",
       "      <td>209285.040452</td>\n",
       "      <td>206054.920990</td>\n",
       "      <td>187833.890</td>\n",
       "    </tr>\n",
       "    <tr>\n",
       "      <th>3</th>\n",
       "      <td>167808.316782</td>\n",
       "      <td>168053.243822</td>\n",
       "      <td>170743.403003</td>\n",
       "      <td>163335.369560</td>\n",
       "      <td>163244.428970</td>\n",
       "      <td>159538.580</td>\n",
       "    </tr>\n",
       "    <tr>\n",
       "      <th>4</th>\n",
       "      <td>61843.517888</td>\n",
       "      <td>63657.644080</td>\n",
       "      <td>62277.154185</td>\n",
       "      <td>66404.809073</td>\n",
       "      <td>67001.018253</td>\n",
       "      <td>61926.350</td>\n",
       "    </tr>\n",
       "    <tr>\n",
       "      <th>...</th>\n",
       "      <td>...</td>\n",
       "      <td>...</td>\n",
       "      <td>...</td>\n",
       "      <td>...</td>\n",
       "      <td>...</td>\n",
       "      <td>...</td>\n",
       "    </tr>\n",
       "    <tr>\n",
       "      <th>4995</th>\n",
       "      <td>72072.131710</td>\n",
       "      <td>74509.806703</td>\n",
       "      <td>75208.721628</td>\n",
       "      <td>68902.360875</td>\n",
       "      <td>67536.266788</td>\n",
       "      <td>71255.640</td>\n",
       "    </tr>\n",
       "    <tr>\n",
       "      <th>4996</th>\n",
       "      <td>178161.370010</td>\n",
       "      <td>169955.168558</td>\n",
       "      <td>117678.335447</td>\n",
       "      <td>164883.003703</td>\n",
       "      <td>162590.429630</td>\n",
       "      <td>164625.100</td>\n",
       "    </tr>\n",
       "    <tr>\n",
       "      <th>4997</th>\n",
       "      <td>55928.623048</td>\n",
       "      <td>60048.800676</td>\n",
       "      <td>56784.818747</td>\n",
       "      <td>83968.153182</td>\n",
       "      <td>77864.845028</td>\n",
       "      <td>53496.363</td>\n",
       "    </tr>\n",
       "    <tr>\n",
       "      <th>4998</th>\n",
       "      <td>72402.928229</td>\n",
       "      <td>76430.885240</td>\n",
       "      <td>67492.775555</td>\n",
       "      <td>78094.089152</td>\n",
       "      <td>78727.010185</td>\n",
       "      <td>72901.010</td>\n",
       "    </tr>\n",
       "    <tr>\n",
       "      <th>4999</th>\n",
       "      <td>22475.474078</td>\n",
       "      <td>22869.799905</td>\n",
       "      <td>26221.251079</td>\n",
       "      <td>30843.289403</td>\n",
       "      <td>31026.079204</td>\n",
       "      <td>21332.348</td>\n",
       "    </tr>\n",
       "  </tbody>\n",
       "</table>\n",
       "<p>5000 rows × 6 columns</p>\n",
       "</div>"
      ],
      "text/plain": [
       "      gb_random_search  gb_random_search_scaled      preds_sim  \\\n",
       "0        143366.036318            137760.633921  133737.818607   \n",
       "1        237626.923868            252934.839776  278194.553710   \n",
       "2        216075.399560            216487.633953  191276.404977   \n",
       "3        167808.316782            168053.243822  170743.403003   \n",
       "4         61843.517888             63657.644080   62277.154185   \n",
       "...                ...                      ...            ...   \n",
       "4995      72072.131710             74509.806703   75208.721628   \n",
       "4996     178161.370010            169955.168558  117678.335447   \n",
       "4997      55928.623048             60048.800676   56784.818747   \n",
       "4998      72402.928229             76430.885240   67492.775555   \n",
       "4999      22475.474078             22869.799905   26221.251079   \n",
       "\n",
       "      rf_random_search  rf_random_search_scaled  submission_test_barexgb  \n",
       "0        114516.178193            113426.848883               154131.020  \n",
       "1        209273.068784            207234.653048               259285.360  \n",
       "2        209285.040452            206054.920990               187833.890  \n",
       "3        163335.369560            163244.428970               159538.580  \n",
       "4         66404.809073             67001.018253                61926.350  \n",
       "...                ...                      ...                      ...  \n",
       "4995      68902.360875             67536.266788                71255.640  \n",
       "4996     164883.003703            162590.429630               164625.100  \n",
       "4997      83968.153182             77864.845028                53496.363  \n",
       "4998      78094.089152             78727.010185                72901.010  \n",
       "4999      30843.289403             31026.079204                21332.348  \n",
       "\n",
       "[5000 rows x 6 columns]"
      ]
     },
     "execution_count": 17,
     "metadata": {},
     "output_type": "execute_result"
    }
   ],
   "source": [
    "files_iter = enumerate(sorted(glob('./preds/*.csv')))\n",
    "df = pd.DataFrame({\n",
    "    dataset_re.match(file).groups()[0]: pd.read_csv(file).Predicted for i, file in files_iter\n",
    "})\n",
    "df"
   ]
  },
  {
   "cell_type": "code",
   "execution_count": 18,
   "metadata": {},
   "outputs": [
    {
     "data": {
      "text/plain": [
       "(array([132823.08932004, 240758.23319752, 204502.21498882, ...,\n",
       "         64681.93394691,  74341.44972688,  25794.70694483]),\n",
       " (5000,))"
      ]
     },
     "execution_count": 18,
     "metadata": {},
     "output_type": "execute_result"
    }
   ],
   "source": [
    "preds_mean = df.mean(axis=1).to_numpy()\n",
    "preds_mean, preds_mean.shape"
   ]
  },
  {
   "cell_type": "code",
   "execution_count": 19,
   "metadata": {},
   "outputs": [],
   "source": [
    "preds_to_csv(preds_mean, out=\"./preds/ensemble_mean.csv\")"
   ]
  },
  {
   "cell_type": "code",
   "execution_count": null,
   "metadata": {},
   "outputs": [],
   "source": []
  }
 ],
 "metadata": {
  "kernelspec": {
   "display_name": "Python 3",
   "language": "python",
   "name": "python3"
  },
  "language_info": {
   "codemirror_mode": {
    "name": "ipython",
    "version": 3
   },
   "file_extension": ".py",
   "mimetype": "text/x-python",
   "name": "python",
   "nbconvert_exporter": "python",
   "pygments_lexer": "ipython3",
   "version": "3.8.5"
  }
 },
 "nbformat": 4,
 "nbformat_minor": 4
}
