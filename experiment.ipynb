{
 "cells": [
  {
   "cell_type": "code",
   "execution_count": 7,
   "id": "6f325953",
   "metadata": {},
   "outputs": [],
   "source": [
    "import pandas as pd\n",
    "import numpy as np"
   ]
  },
  {
   "cell_type": "code",
   "execution_count": 2,
   "id": "6d57a43d",
   "metadata": {},
   "outputs": [],
   "source": [
    "input_file = \"task1/data/train.csv\""
   ]
  },
  {
   "cell_type": "code",
   "execution_count": 3,
   "id": "381b301a",
   "metadata": {},
   "outputs": [],
   "source": [
    "train_df = pd.read_csv(input_file)"
   ]
  },
  {
   "cell_type": "code",
   "execution_count": 13,
   "id": "66f2ba08",
   "metadata": {},
   "outputs": [
    {
     "data": {
      "text/plain": [
       "array(['bmw', nan, 'mercedes-benz', 'volvo', 'kia', 'honda', 'nissan',\n",
       "       'toyota', 'mazda', 'ferrari', 'volkswagen', 'jaguar', 'opel',\n",
       "       'mini', 'suzuki', 'porsche', 'lexus', 'lamborghini', 'audi',\n",
       "       'proton', 'hyundai', 'bentley', 'citroen', 'maserati',\n",
       "       'alfa romeo', 'mitsubishi', 'fiat', 'tesla', 'hino', 'skoda',\n",
       "       'land rover', 'rolls-royce', 'mclaren', 'ssangyong', 'renault',\n",
       "       'peugeot', 'subaru', 'isuzu', 'infiniti', 'chevrolet', 'dongfeng',\n",
       "       'cupra', 'ford', 'yutong', 'golden dragon', 'dodge', 'mercedes',\n",
       "       'seat', 'maxus', 'austin', 'mg', 'morris', 'perodua', 'byd',\n",
       "       'rover', 'jeep', 'ud', 'aston martin', 'scania', 'international',\n",
       "       'daf', 'alpine', 'daihatsu', 'lotus', 'hafei', 'chery', 'foton',\n",
       "       'saab', 'hummer', 'iveco', 'riley', 'daimler', 'ruf', 'higer',\n",
       "       'chrysler', 'man', 'joylong', 'mitsuoka'], dtype=object)"
      ]
     },
     "execution_count": 13,
     "metadata": {},
     "output_type": "execute_result"
    }
   ],
   "source": [
    "train_df.make.unique()"
   ]
  },
  {
   "cell_type": "code",
   "execution_count": 27,
   "id": "668f0ce4",
   "metadata": {},
   "outputs": [],
   "source": [
    "title_series = train_df.title.str.lower()\n",
    "make_series = train_df.make.str.lower()"
   ]
  },
  {
   "cell_type": "code",
   "execution_count": 43,
   "id": "fde59062",
   "metadata": {},
   "outputs": [],
   "source": [
    "make_list = [make for make in make_series.unique() if not pd.isnull(make)]"
   ]
  },
  {
   "cell_type": "code",
   "execution_count": 44,
   "id": "e6c34b15",
   "metadata": {},
   "outputs": [],
   "source": [
    "for indx, comp in make_series.iteritems():\n",
    "    if pd.isnull(comp):\n",
    "        for make in make_list:\n",
    "            if make in title_series[indx]:\n",
    "                make_series[indx] = make"
   ]
  },
  {
   "cell_type": "code",
   "execution_count": 46,
   "id": "f443a059",
   "metadata": {},
   "outputs": [],
   "source": [
    "train_df.make = make_series"
   ]
  },
  {
   "cell_type": "code",
   "execution_count": 50,
   "id": "c9c0904e",
   "metadata": {},
   "outputs": [],
   "source": [
    "for model in train_df.model.unique():\n",
    "    if pd.isnull(model):\n",
    "        print(True)"
   ]
  },
  {
   "cell_type": "code",
   "execution_count": 51,
   "id": "52e87f49",
   "metadata": {},
   "outputs": [
    {
     "data": {
      "text/plain": [
       "array(['bmw', 'toyota', 'mercedes-benz', 'honda', 'volvo', 'kia',\n",
       "       'hyundai', 'mg', 'nissan', 'mazda', 'ferrari', 'volkswagen',\n",
       "       'jaguar', 'opel', 'mini', 'suzuki', 'porsche', 'mitsubishi',\n",
       "       'lexus', 'lamborghini', 'audi', 'proton', 'bentley', 'citroen',\n",
       "       'maserati', 'alfa romeo', 'fiat', 'tesla', 'hino', 'skoda',\n",
       "       'land rover', 'rolls-royce', 'mclaren', 'ssangyong', 'renault',\n",
       "       'peugeot', 'subaru', 'isuzu', 'seat', 'infiniti', 'chevrolet',\n",
       "       'dongfeng', 'cupra', 'ford', 'yutong', 'golden dragon', 'dodge',\n",
       "       'mercedes', 'maxus', 'austin', 'morris', 'perodua', 'byd', 'rover',\n",
       "       'jeep', 'ud', 'aston martin', 'scania', 'international', 'daf',\n",
       "       'alpine', 'daihatsu', 'lotus', 'hafei', 'chery', 'foton', 'saab',\n",
       "       'hummer', 'iveco', 'man', 'riley', 'daimler', 'ruf', 'higer',\n",
       "       'chrysler', 'joylong', 'mitsuoka'], dtype=object)"
      ]
     },
     "execution_count": 51,
     "metadata": {},
     "output_type": "execute_result"
    }
   ],
   "source": [
    "train_df.make.unique()"
   ]
  },
  {
   "cell_type": "code",
   "execution_count": null,
   "id": "fe36db75",
   "metadata": {},
   "outputs": [],
   "source": [
    "train_df.to_csv()"
   ]
  }
 ],
 "metadata": {
  "kernelspec": {
   "display_name": "Python 3",
   "language": "python",
   "name": "python3"
  },
  "language_info": {
   "codemirror_mode": {
    "name": "ipython",
    "version": 3
   },
   "file_extension": ".py",
   "mimetype": "text/x-python",
   "name": "python",
   "nbconvert_exporter": "python",
   "pygments_lexer": "ipython3",
   "version": "3.6.9"
  }
 },
 "nbformat": 4,
 "nbformat_minor": 5
}
