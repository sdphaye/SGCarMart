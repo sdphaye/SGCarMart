{
 "cells": [
  {
   "cell_type": "code",
   "execution_count": 7,
   "id": "605417c7",
   "metadata": {},
   "outputs": [],
   "source": [
    "import pandas as pd\n",
    "import numpy as np"
   ]
  },
  {
   "cell_type": "code",
   "execution_count": 2,
   "id": "180005ce",
   "metadata": {},
   "outputs": [],
   "source": [
    "input_file = \"task1/data/train.csv\""
   ]
  },
  {
   "cell_type": "code",
   "execution_count": 3,
   "id": "9dd6b464",
   "metadata": {},
   "outputs": [],
   "source": [
    "train_df = pd.read_csv(input_file)"
   ]
  },
  {
   "cell_type": "code",
   "execution_count": 13,
   "id": "2024375b",
   "metadata": {},
   "outputs": [
    {
     "data": {
      "text/plain": [
       "array(['bmw', nan, 'mercedes-benz', 'volvo', 'kia', 'honda', 'nissan',\n",
       "       'toyota', 'mazda', 'ferrari', 'volkswagen', 'jaguar', 'opel',\n",
       "       'mini', 'suzuki', 'porsche', 'lexus', 'lamborghini', 'audi',\n",
       "       'proton', 'hyundai', 'bentley', 'citroen', 'maserati',\n",
       "       'alfa romeo', 'mitsubishi', 'fiat', 'tesla', 'hino', 'skoda',\n",
       "       'land rover', 'rolls-royce', 'mclaren', 'ssangyong', 'renault',\n",
       "       'peugeot', 'subaru', 'isuzu', 'infiniti', 'chevrolet', 'dongfeng',\n",
       "       'cupra', 'ford', 'yutong', 'golden dragon', 'dodge', 'mercedes',\n",
       "       'seat', 'maxus', 'austin', 'mg', 'morris', 'perodua', 'byd',\n",
       "       'rover', 'jeep', 'ud', 'aston martin', 'scania', 'international',\n",
       "       'daf', 'alpine', 'daihatsu', 'lotus', 'hafei', 'chery', 'foton',\n",
       "       'saab', 'hummer', 'iveco', 'riley', 'daimler', 'ruf', 'higer',\n",
       "       'chrysler', 'man', 'joylong', 'mitsuoka'], dtype=object)"
      ]
     },
     "execution_count": 13,
     "metadata": {},
     "output_type": "execute_result"
    }
   ],
   "source": [
    "train_df.make.unique()"
   ]
  },
  {
   "cell_type": "code",
   "execution_count": 27,
   "id": "2d086202",
   "metadata": {},
   "outputs": [],
   "source": [
    "title_series = train_df.title.str.lower()\n",
    "make_series = train_df.make.str.lower()"
   ]
  },
  {
   "cell_type": "code",
   "execution_count": 43,
   "id": "4f06116e",
   "metadata": {},
   "outputs": [],
   "source": [
    "make_list = [make for make in make_series.unique() if not pd.isnull(make)]"
   ]
  },
  {
   "cell_type": "code",
   "execution_count": 44,
   "id": "ca53d4c8",
   "metadata": {},
   "outputs": [],
   "source": [
    "for indx, comp in make_series.iteritems():\n",
    "    if pd.isnull(comp):\n",
    "        for make in make_list:\n",
    "            if make in title_series[indx]:\n",
    "                make_series[indx] = make"
   ]
  },
  {
   "cell_type": "code",
   "execution_count": 46,
   "id": "79720cc8",
   "metadata": {},
   "outputs": [],
   "source": [
    "train_df.make = make_series"
   ]
  },
  {
   "cell_type": "code",
   "execution_count": 50,
   "id": "2011c3d6",
   "metadata": {},
   "outputs": [],
   "source": [
    "for model in train_df.model.unique():\n",
    "    if pd.isnull(model):\n",
    "        print(True)"
   ]
  },
  {
   "cell_type": "code",
   "execution_count": 51,
   "id": "bb4b94e3",
   "metadata": {},
   "outputs": [
    {
     "data": {
      "text/plain": [
       "array(['bmw', 'toyota', 'mercedes-benz', 'honda', 'volvo', 'kia',\n",
       "       'hyundai', 'mg', 'nissan', 'mazda', 'ferrari', 'volkswagen',\n",
       "       'jaguar', 'opel', 'mini', 'suzuki', 'porsche', 'mitsubishi',\n",
       "       'lexus', 'lamborghini', 'audi', 'proton', 'bentley', 'citroen',\n",
       "       'maserati', 'alfa romeo', 'fiat', 'tesla', 'hino', 'skoda',\n",
       "       'land rover', 'rolls-royce', 'mclaren', 'ssangyong', 'renault',\n",
       "       'peugeot', 'subaru', 'isuzu', 'seat', 'infiniti', 'chevrolet',\n",
       "       'dongfeng', 'cupra', 'ford', 'yutong', 'golden dragon', 'dodge',\n",
       "       'mercedes', 'maxus', 'austin', 'morris', 'perodua', 'byd', 'rover',\n",
       "       'jeep', 'ud', 'aston martin', 'scania', 'international', 'daf',\n",
       "       'alpine', 'daihatsu', 'lotus', 'hafei', 'chery', 'foton', 'saab',\n",
       "       'hummer', 'iveco', 'man', 'riley', 'daimler', 'ruf', 'higer',\n",
       "       'chrysler', 'joylong', 'mitsuoka'], dtype=object)"
      ]
     },
     "execution_count": 51,
     "metadata": {},
     "output_type": "execute_result"
    }
   ],
   "source": [
    "train_df.make.unique()"
   ]
  },
  {
   "cell_type": "code",
   "execution_count": 52,
   "id": "ff1f9045",
   "metadata": {},
   "outputs": [],
   "source": [
    "train_df.to_csv(\"task1/data/train_1.csv\", index=False)"
   ]
  },
  {
   "cell_type": "markdown",
   "id": "cc616fc8",
   "metadata": {},
   "source": [
    "# Sample instances from dataset and perform clustering"
   ]
  },
  {
   "cell_type": "code",
   "execution_count": 114,
   "id": "4577dfa8",
   "metadata": {},
   "outputs": [],
   "source": [
    "import pandas as pd\n",
    "import numpy as np\n",
    "import re\n",
    "import string"
   ]
  },
  {
   "cell_type": "code",
   "execution_count": 115,
   "id": "a5542210",
   "metadata": {},
   "outputs": [],
   "source": [
    "input_file = \"task1/data/train_1.csv\""
   ]
  },
  {
   "cell_type": "code",
   "execution_count": 116,
   "id": "a363c033",
   "metadata": {},
   "outputs": [],
   "source": [
    "train_df = pd.read_csv(input_file)"
   ]
  },
  {
   "cell_type": "code",
   "execution_count": 117,
   "id": "972b1db5",
   "metadata": {},
   "outputs": [],
   "source": [
    "# gen = np.random.default_rng()\n",
    "# random_int_array = gen.choice(a=16784, size=1000, replace=False)"
   ]
  },
  {
   "cell_type": "code",
   "execution_count": 118,
   "id": "67285f9d",
   "metadata": {},
   "outputs": [],
   "source": [
    "features_series = train_df.features\n",
    "features_series.dropna(inplace=True)\n",
    "\n",
    "accessories_series = train_df.accessories\n",
    "accessories_series.dropna(inplace=True)"
   ]
  },
  {
   "cell_type": "code",
   "execution_count": 119,
   "id": "e43caf0c",
   "metadata": {},
   "outputs": [],
   "source": [
    "# features_rand_series = features_series[random_int_array]\n",
    "# accessories_rand_series = accessories_series[random_int_array]"
   ]
  },
  {
   "cell_type": "code",
   "execution_count": 120,
   "id": "51941c01",
   "metadata": {},
   "outputs": [],
   "source": [
    "pattern = re.compile(\"\\. | \\.|! \")"
   ]
  },
  {
   "cell_type": "code",
   "execution_count": 121,
   "id": "6524397d",
   "metadata": {},
   "outputs": [],
   "source": [
    "def fun_accessory(str_, pattern):\n",
    "    str_1 = str_1.lower()\n",
    "        \n",
    "    if len(str_1) > 1:\n",
    "        str_1 = pattern.sub(\",\", str_1)\n",
    "        str_1 = str_1.strip()\n",
    "        \n",
    "        return [token.strip(string.punctuation+\" \\n\\t\") for token in str_1.split(\",\") if len(token.strip()) > 2]\n",
    "    else:\n",
    "        return []"
   ]
  },
  {
   "cell_type": "code",
   "execution_count": 122,
   "id": "a5a0b174",
   "metadata": {},
   "outputs": [],
   "source": [
    "set_2 = set()\n",
    "\n",
    "for accessory in accessories_series.values:\n",
    "    tmp_list = fun(str(accessory), pattern)\n",
    "    for item in tmp_list:\n",
    "        set_2.add(item)"
   ]
  },
  {
   "cell_type": "code",
   "execution_count": 123,
   "id": "80cf7dfa",
   "metadata": {},
   "outputs": [],
   "source": [
    "# # str_1 = 'low mileage well maintained, 1 owner. view specs of the nissan latio sport'\n",
    "# # str_1 = \"5.7cc ferrari v12 engine, 509 bhp at 7200 rpm, torque: 434 lb ft at 5200 rpm, 0 to 100 4.2sec, quarter mile, 12.6 sec. view specs of the ferrari 575m maranello\"\n",
    "# str_1 = \"3.0l v6 engine. 175kw  power. 293 nm torque. 8.3s  acceleration. 237 km/h top speed. 6 speed  transmission. rear wheel drive. view specs of the jaguar xf \""
   ]
  },
  {
   "cell_type": "code",
   "execution_count": 124,
   "id": "10b79c62",
   "metadata": {},
   "outputs": [],
   "source": [
    "def fun_feature(str_, pattern):\n",
    "    str_1 = str_1.lower()\n",
    "    indx = str_1.find(\"view specs\")\n",
    "    \n",
    "    if indx >= 0:\n",
    "        str_1 = str_1[:indx]\n",
    "        \n",
    "    if len(str_1) > 1:\n",
    "        str_1 = pattern.sub(\",\", str_1)\n",
    "        str_1 = str_1.strip()\n",
    "        \n",
    "        return [token.strip(string.punctuation+\" \\n\\t\") for token in str_1.split(\",\") if len(token.strip()) > 2]\n",
    "    else:\n",
    "        return []"
   ]
  },
  {
   "cell_type": "code",
   "execution_count": 125,
   "id": "dc1e0362",
   "metadata": {},
   "outputs": [],
   "source": [
    "set_1 = set()\n",
    "\n",
    "for feature in features_series.values:\n",
    "    tmp_list = fun(str(feature), pattern)\n",
    "    for item in tmp_list:\n",
    "        set_1.add(item)"
   ]
  },
  {
   "cell_type": "code",
   "execution_count": 126,
   "id": "2aab5696",
   "metadata": {},
   "outputs": [
    {
     "name": "stdout",
     "output_type": "stream",
     "text": [
      "17799\n",
      "19928\n",
      "36331\n"
     ]
    }
   ],
   "source": [
    "print(len(set_1))\n",
    "print(len(set_2))\n",
    "set_1.update(set_2)\n",
    "print(len(set_1))"
   ]
  },
  {
   "cell_type": "markdown",
   "id": "716a3c4a",
   "metadata": {},
   "source": [
    "# Clustering"
   ]
  },
  {
   "cell_type": "code",
   "execution_count": 130,
   "id": "ca51e474",
   "metadata": {},
   "outputs": [],
   "source": [
    "from sentence_transformers import SentenceTransformer, util\n",
    "import json\n",
    "\n"
   ]
  },
  {
   "cell_type": "code",
   "execution_count": 131,
   "id": "acc15b40",
   "metadata": {},
   "outputs": [],
   "source": [
    "model = SentenceTransformer('paraphrase-MiniLM-L6-v2')"
   ]
  },
  {
   "cell_type": "code",
   "execution_count": 132,
   "id": "953f9b52",
   "metadata": {},
   "outputs": [],
   "source": [
    "pool_list = []\n",
    "match_dict = {}\n",
    "encoding_dict = {}"
   ]
  },
  {
   "cell_type": "code",
   "execution_count": 133,
   "id": "51fc36f7",
   "metadata": {},
   "outputs": [
    {
     "name": "stdout",
     "output_type": "stream",
     "text": [
      "CPU times: user 22 µs, sys: 0 ns, total: 22 µs\n",
      "Wall time: 45.8 µs\n"
     ]
    }
   ],
   "source": [
    "%time\n",
    "for text in list(set_1):\n",
    "    text_encoding = model.encode([text])\n",
    "    similar = False\n",
    "    \n",
    "    max_score = None\n",
    "    max_loc = None\n",
    "\n",
    "    for loc in range(len(pool_list)):\n",
    "        sim_score = util.pytorch_cos_sim(encoding_dict[loc], text_encoding).numpy()[0][0]\n",
    "\n",
    "        if sim_score > 0.70:\n",
    "            similar = True\n",
    "            \n",
    "            if max_score == None or sim_score > max_score:\n",
    "                max_score = sim_score\n",
    "                max_loc = loc\n",
    "\n",
    "    if not similar:\n",
    "        pool_list.append(text)\n",
    "        encoding_dict[len(pool_list)-1] = text_encoding\n",
    "        match_dict[len(pool_list)-1] = []\n",
    "    else:\n",
    "        match_dict[max_loc].append((text, max_score))"
   ]
  },
  {
   "cell_type": "code",
   "execution_count": 141,
   "id": "d896f688",
   "metadata": {},
   "outputs": [],
   "source": [
    "with open(\"task1/data/feature_simi_final.jsonl\", \"w\") as out_f:\n",
    "    for indx in range(len(pool_list)):\n",
    "        list_ = match_dict[indx]\n",
    "        sorted_list = sorted(list_, key=lambda x: x[1], reverse=True)\n",
    "        \n",
    "        if len(sorted_list) > 0:\n",
    "            tmp_dict = {\"{}\".format(pool_list[indx]): []}\n",
    "            for i in range(int(len(sorted_list)/2)):\n",
    "                tmp_dict[pool_list[indx]].append(sorted_list[i])\n",
    "        \n",
    "            out_f.write(str(tmp_dict)+\"\\n\")"
   ]
  },
  {
   "cell_type": "code",
   "execution_count": null,
   "id": "d56b036a",
   "metadata": {},
   "outputs": [],
   "source": []
  },
  {
   "cell_type": "markdown",
   "id": "89ca014b",
   "metadata": {},
   "source": [
    "# Extracts features and outliers from extracted clusters"
   ]
  },
  {
   "cell_type": "code",
   "execution_count": 145,
   "id": "d5db8ea1",
   "metadata": {},
   "outputs": [],
   "source": [
    "import json, ast"
   ]
  },
  {
   "cell_type": "code",
   "execution_count": 146,
   "id": "988cb9f1",
   "metadata": {},
   "outputs": [],
   "source": [
    "input_file = \"task1/data/feature_simi_final.jsonl\"\n",
    "feature_file = \"task1/data/feature.jsonl\"\n",
    "outlier_file = \"task1/data/outlier.jsonl\""
   ]
  },
  {
   "cell_type": "code",
   "execution_count": 171,
   "id": "124d7a8e",
   "metadata": {},
   "outputs": [],
   "source": [
    "counter = 0\n",
    "feature_instances_list = []\n",
    "global_dict = {}\n",
    "\n",
    "with open(feature_file, \"w\") as feat_f:\n",
    "    with open(outlier_file, \"w\") as outlier_f:\n",
    "        with open(input_file, \"r\") as in_f:\n",
    "            for line in in_f:\n",
    "                dict_obj = ast.literal_eval(line)\n",
    "                \n",
    "                for key in dict_obj.keys():\n",
    "                    if len(dict_obj[key]) > 0:\n",
    "                        tmp_dict = {\"feature_{}\".format(counter): (key, dict_obj[key][-1][1], len(dict_obj[key]))}\n",
    "                        global_dict[\"feature_{}\".format(counter)] = (key, dict_obj[key][-1][1], len(dict_obj[key]))\n",
    "                        feature_instances_list.append(len(dict_obj[key]))\n",
    "                        feat_f.write(json.dumps(tmp_dict)+\"\\n\")\n",
    "                        counter += 1\n",
    "                    else:\n",
    "                        outlier_f.write(line)"
   ]
  },
  {
   "cell_type": "code",
   "execution_count": 182,
   "id": "a8841d37",
   "metadata": {},
   "outputs": [],
   "source": [
    "sorted_global_dict = dict(sorted(global_dict.items(), key=lambda x: x[1][2], reverse=True))\n",
    "with open(\"task1/data/sorted_feature.jsonl\", \"w\") as out_f:\n",
    "    for key in sorted_global_dict.keys():\n",
    "        out_f.write(json.dumps({key: sorted_global_dict[key]})+\"\\n\")"
   ]
  },
  {
   "cell_type": "code",
   "execution_count": 156,
   "id": "d3ec17e2",
   "metadata": {},
   "outputs": [],
   "source": [
    "freq_df = pd.DataFrame({\"feature\": range(len(feature_instances_list)), \"frequency\": feature_instances_list})"
   ]
  },
  {
   "cell_type": "code",
   "execution_count": 152,
   "id": "153cfcaa",
   "metadata": {},
   "outputs": [],
   "source": [
    "import matplotlib.pyplot as plt\n",
    "import seaborn as sns"
   ]
  },
  {
   "cell_type": "code",
   "execution_count": 155,
   "id": "6ccaacb3",
   "metadata": {},
   "outputs": [
    {
     "name": "stderr",
     "output_type": "stream",
     "text": [
      "/home/saurabh/venvs/general_env/lib/python3.6/site-packages/seaborn/distributions.py:2557: FutureWarning: `distplot` is a deprecated function and will be removed in a future version. Please adapt your code to use either `displot` (a figure-level function with similar flexibility) or `kdeplot` (an axes-level function for kernel density plots).\n",
      "  warnings.warn(msg, FutureWarning)\n"
     ]
    },
    {
     "data": {
      "image/png": "[encoded data removed]",
      "text/plain": [
       "<Figure size 432x288 with 1 Axes>"
      ]
     },
     "metadata": {
      "needs_background": "light"
     },
     "output_type": "display_data"
    }
   ],
   "source": [
    "fig, ax = plt.subplots()\n",
    "sns.distplot(feature_instances_list, ax=ax, hist=False)\n",
    "ax.set_xlim(0,40)\n",
    "plt.show()"
   ]
  },
  {
   "cell_type": "code",
   "execution_count": 169,
   "id": "46de2d45",
   "metadata": {},
   "outputs": [
    {
     "data": {
      "text/plain": [
       "<seaborn.axisgrid.FacetGrid at 0x7f4e274365f8>"
      ]
     },
     "execution_count": 169,
     "metadata": {},
     "output_type": "execute_result"
    },
    {
     "data": {
      "image/png": "[encoded data removed]",
      "text/plain": [
       "<Figure size 360x360 with 1 Axes>"
      ]
     },
     "metadata": {
      "needs_background": "light"
     },
     "output_type": "display_data"
    }
   ],
   "source": [
    "sns.displot(data=freq_df, x=\"feature\")"
   ]
  },
  {
   "cell_type": "markdown",
   "id": "72cd733a",
   "metadata": {},
   "source": [
    "# Assign features to train dataset"
   ]
  },
  {
   "cell_type": "code",
   "execution_count": 197,
   "id": "6b1e658c",
   "metadata": {},
   "outputs": [],
   "source": [
    "import json, string\n",
    "from sentence_transformers import SentenceTransformer, util"
   ]
  },
  {
   "cell_type": "code",
   "execution_count": 206,
   "id": "fdda3897",
   "metadata": {},
   "outputs": [
    {
     "name": "stdout",
     "output_type": "stream",
     "text": [
      "5000\n",
      "5000\n"
     ]
    }
   ],
   "source": [
    "test_df = pd.read_csv(\"task1/data/test.csv\")\n",
    "\n",
    "features_series = test_df.features#train_df.features\n",
    "accessories_series = test_df.accessories#train_df.accessories\n",
    "\n",
    "print(len(features_series))\n",
    "print(len(accessories_series))\n",
    "len_ = len(accessories_series)"
   ]
  },
  {
   "cell_type": "code",
   "execution_count": null,
   "id": "c2936762",
   "metadata": {},
   "outputs": [],
   "source": []
  },
  {
   "cell_type": "code",
   "execution_count": 207,
   "id": "aaff6791",
   "metadata": {},
   "outputs": [],
   "source": [
    "input_file = \"task1/data/sorted_feature.jsonl\""
   ]
  },
  {
   "cell_type": "code",
   "execution_count": 208,
   "id": "1d67b65f",
   "metadata": {},
   "outputs": [
    {
     "name": "stdout",
     "output_type": "stream",
     "text": [
      "2187\n"
     ]
    }
   ],
   "source": [
    "feature_dict = {}\n",
    "with open(input_file, \"r\") as in_f:\n",
    "    for line in in_f:\n",
    "        dict_obj = json.loads(line)\n",
    "        \n",
    "        for key in dict_obj.keys():\n",
    "            feature_dict[key] = dict_obj[key]\n",
    "            \n",
    "print(len(feature_dict))"
   ]
  },
  {
   "cell_type": "code",
   "execution_count": 209,
   "id": "9e409f15",
   "metadata": {},
   "outputs": [],
   "source": [
    "data_dict = {}\n",
    "for key in feature_dict.keys():\n",
    "    data_dict[key] = [0]*len_"
   ]
  },
  {
   "cell_type": "code",
   "execution_count": 210,
   "id": "0c7ef122",
   "metadata": {},
   "outputs": [],
   "source": [
    "pattern = re.compile(\"\\. | \\.|! \")"
   ]
  },
  {
   "cell_type": "code",
   "execution_count": 211,
   "id": "e31f099a",
   "metadata": {},
   "outputs": [
    {
     "name": "stdout",
     "output_type": "stream",
     "text": [
      "CPU times: user 49.3 s, sys: 617 ms, total: 49.9 s\n",
      "Wall time: 38.6 s\n"
     ]
    }
   ],
   "source": [
    "%%time\n",
    "model = SentenceTransformer('paraphrase-MiniLM-L6-v2')\n",
    "\n",
    "feature_phrase_encoding_dict = {}\n",
    "\n",
    "for key in feature_dict.keys():\n",
    "    feature_phrase_encoding_dict[key] = model.encode([feature_dict[key][0]])"
   ]
  },
  {
   "cell_type": "code",
   "execution_count": 212,
   "id": "af2e8812",
   "metadata": {},
   "outputs": [
    {
     "name": "stdout",
     "output_type": "stream",
     "text": [
      "0\n",
      "500\n",
      "1000\n",
      "1500\n",
      "2000\n",
      "2500\n",
      "3000\n",
      "3500\n",
      "4000\n",
      "4500\n",
      "CPU times: user 5h 51min 32s, sys: 1min 45s, total: 5h 53min 17s\n",
      "Wall time: 6h 10min 43s\n"
     ]
    }
   ],
   "source": [
    "%%time\n",
    "def fun_accessory(str_1, pattern):\n",
    "    str_1 = str_1.lower()\n",
    "        \n",
    "    if len(str_1) > 1:\n",
    "        str_1 = pattern.sub(\",\", str_1)\n",
    "        str_1 = str_1.strip()\n",
    "        \n",
    "        return [token.strip(string.punctuation+\" \\n\\t\") for token in str_1.split(\",\") if len(token.strip()) > 2]\n",
    "    else:\n",
    "        return []\n",
    "    \n",
    "\n",
    "def fun_feature(str_1, pattern):\n",
    "    str_1 = str_1.lower()\n",
    "    indx = str_1.find(\"view specs\")\n",
    "    \n",
    "    if indx >= 0:\n",
    "        str_1 = str_1[:indx]\n",
    "        \n",
    "    if len(str_1) > 1:\n",
    "        str_1 = pattern.sub(\",\", str_1)\n",
    "        str_1 = str_1.strip()\n",
    "        \n",
    "        return [token.strip(string.punctuation+\" \\n\\t\") for token in str_1.split(\",\") if len(token.strip()) > 2]\n",
    "    else:\n",
    "        return []\n",
    "    \n",
    "\n",
    "def get_feature_list(token_list):\n",
    "    feature_set = set()\n",
    "    \n",
    "    for token in token_list:\n",
    "        token_encoding = model.encode([token])\n",
    "        \n",
    "        max_key = None\n",
    "        max_score = None\n",
    "        \n",
    "        for key in feature_dict.keys():\n",
    "            sim_score = util.pytorch_cos_sim(feature_phrase_encoding_dict[key], token_encoding).numpy()[0][0]\n",
    "            \n",
    "            if (sim_score >= feature_dict[key][1]) and (max_score == None or sim_score > max_score):\n",
    "                max_score = sim_score\n",
    "                max_key = key\n",
    "                \n",
    "        if max_key != None:\n",
    "            feature_set.add(max_key)\n",
    "            \n",
    "    return list(feature_set)\n",
    "\n",
    "\n",
    "for index in range(len_):\n",
    "    acc_list = []\n",
    "    if not pd.isnull(accessories_series[index]):\n",
    "        acc_list = fun_accessory(str(accessories_series[index]), pattern)\n",
    "        \n",
    "    feat_list = []\n",
    "    if not pd.isnull(features_series[index]):\n",
    "        feat_list = fun_feature(str(features_series[index]), pattern)\n",
    "        \n",
    "    feat_list.extend(acc_list)\n",
    "    \n",
    "    extracted_feature_list = get_feature_list(feat_list)\n",
    "    \n",
    "    for feat in extracted_feature_list:\n",
    "        data_dict[feat][index] = 1\n",
    "\n",
    "    if index%500 == 0:\n",
    "        print(index)"
   ]
  },
  {
   "cell_type": "code",
   "execution_count": 213,
   "id": "b109fe2a",
   "metadata": {},
   "outputs": [],
   "source": [
    "data_df = pd.DataFrame(data_dict)\n",
    "\n",
    "output_df = pd.concat([test_df, data_df], axis=1)\n",
    "output_df.to_csv(\"task1/data/test_2.tsv\", sep=\"\\t\", index=False)"
   ]
  },
  {
   "cell_type": "code",
   "execution_count": null,
   "id": "8cc75b7c",
   "metadata": {},
   "outputs": [],
   "source": []
  },
  {
   "cell_type": "markdown",
   "id": "08a89fe1",
   "metadata": {},
   "source": [
    "# features and accessories scaling at test time"
   ]
  },
  {
   "cell_type": "code",
   "execution_count": null,
   "id": "3e8dfeef",
   "metadata": {},
   "outputs": [],
   "source": [
    "import json, string\n",
    "from sentence_transformers import SentenceTransformer, util"
   ]
  },
  {
   "cell_type": "code",
   "execution_count": null,
   "id": "a14fb70b",
   "metadata": {},
   "outputs": [],
   "source": [
    "input_file = \"task1/data/sorted_feature.jsonl\"\n",
    "test_df = pd.read_csv(\"task1/data/test.csv\")\n",
    "\n",
    "features_series = test_df.features#train_df.features\n",
    "accessories_series = test_df.accessories#train_df.accessories\n",
    "\n",
    "print(len(features_series))\n",
    "print(len(accessories_series))\n",
    "len_ = len(accessories_series)"
   ]
  },
  {
   "cell_type": "code",
   "execution_count": null,
   "id": "0d4953bd",
   "metadata": {},
   "outputs": [],
   "source": [
    "feature_dict = {}\n",
    "with open(input_file, \"r\") as in_f:\n",
    "    for line in in_f:\n",
    "        dict_obj = json.loads(line)\n",
    "        \n",
    "        for key in dict_obj.keys():\n",
    "            feature_dict[key] = dict_obj[key]\n",
    "            \n",
    "print(len(feature_dict))"
   ]
  },
  {
   "cell_type": "code",
   "execution_count": null,
   "id": "ee36ebdb",
   "metadata": {},
   "outputs": [],
   "source": [
    "data_dict = {}\n",
    "for key in feature_dict.keys():\n",
    "    data_dict[key] = [0]*len_"
   ]
  },
  {
   "cell_type": "code",
   "execution_count": null,
   "id": "3203fab5",
   "metadata": {},
   "outputs": [],
   "source": [
    "pattern = re.compile(\"\\. | \\.|! \")"
   ]
  },
  {
   "cell_type": "code",
   "execution_count": null,
   "id": "0f702599",
   "metadata": {},
   "outputs": [],
   "source": [
    "%%time\n",
    "model = SentenceTransformer('paraphrase-MiniLM-L6-v2')\n",
    "\n",
    "feature_phrase_encoding_dict = {}\n",
    "\n",
    "for key in feature_dict.keys():\n",
    "    feature_phrase_encoding_dict[key] = model.encode([feature_dict[key][0]])"
   ]
  },
  {
   "cell_type": "code",
   "execution_count": null,
   "id": "85a52da2",
   "metadata": {},
   "outputs": [],
   "source": [
    "%%time\n",
    "def fun_accessory(str_1, pattern):\n",
    "    str_1 = str_1.lower()\n",
    "        \n",
    "    if len(str_1) > 1:\n",
    "        str_1 = pattern.sub(\",\", str_1)\n",
    "        str_1 = str_1.strip()\n",
    "        \n",
    "        return [token.strip(string.punctuation+\" \\n\\t\") for token in str_1.split(\",\") if len(token.strip()) > 2]\n",
    "    else:\n",
    "        return []\n",
    "    \n",
    "\n",
    "def fun_feature(str_1, pattern):\n",
    "    str_1 = str_1.lower()\n",
    "    indx = str_1.find(\"view specs\")\n",
    "    \n",
    "    if indx >= 0:\n",
    "        str_1 = str_1[:indx]\n",
    "        \n",
    "    if len(str_1) > 1:\n",
    "        str_1 = pattern.sub(\",\", str_1)\n",
    "        str_1 = str_1.strip()\n",
    "        \n",
    "        return [token.strip(string.punctuation+\" \\n\\t\") for token in str_1.split(\",\") if len(token.strip()) > 2]\n",
    "    else:\n",
    "        return []\n",
    "    \n",
    "\n",
    "def get_feature_list(token_list):\n",
    "    feature_set = set()\n",
    "    \n",
    "    for token in token_list:\n",
    "        token_encoding = model.encode([token])\n",
    "        \n",
    "        max_key = None\n",
    "        max_score = None\n",
    "        \n",
    "        for key in feature_dict.keys():\n",
    "            sim_score = util.pytorch_cos_sim(feature_phrase_encoding_dict[key], token_encoding).numpy()[0][0]\n",
    "            \n",
    "            if (sim_score >= feature_dict[key][1]) and (max_score == None or sim_score > max_score):\n",
    "                max_score = sim_score\n",
    "                max_key = key\n",
    "                \n",
    "        if max_key != None:\n",
    "            feature_set.add(max_key)\n",
    "            \n",
    "    return list(feature_set)\n",
    "\n",
    "\n",
    "for index in range(len_):\n",
    "    acc_list = []\n",
    "    if not pd.isnull(accessories_series[index]):\n",
    "        acc_list = fun_accessory(str(accessories_series[index]), pattern)\n",
    "        \n",
    "    feat_list = []\n",
    "    if not pd.isnull(features_series[index]):\n",
    "        feat_list = fun_feature(str(features_series[index]), pattern)\n",
    "        \n",
    "    feat_list.extend(acc_list)\n",
    "    \n",
    "    extracted_feature_list = get_feature_list(feat_list)\n",
    "    \n",
    "    for feat in extracted_feature_list:\n",
    "        data_dict[feat][index] = 1\n",
    "\n",
    "    if index%500 == 0:\n",
    "        print(index)"
   ]
  },
  {
   "cell_type": "code",
   "execution_count": null,
   "id": "f0a8cfac",
   "metadata": {},
   "outputs": [],
   "source": [
    "data_df = pd.DataFrame(data_dict)\n",
    "\n",
    "output_df = pd.concat([test_df, data_df], axis=1)\n",
    "output_df.to_csv(\"task1/data/test_2.tsv\", sep=\"\\t\", index=False)"
   ]
  },
  {
   "cell_type": "code",
   "execution_count": null,
   "id": "371ceddd",
   "metadata": {},
   "outputs": [],
   "source": []
  },
  {
   "cell_type": "code",
   "execution_count": null,
   "id": "79f15076",
   "metadata": {},
   "outputs": [],
   "source": []
  },
  {
   "cell_type": "code",
   "execution_count": null,
   "id": "afba2115",
   "metadata": {},
   "outputs": [],
   "source": []
  },
  {
   "cell_type": "markdown",
   "id": "630905cb",
   "metadata": {},
   "source": [
    "# Scaling price column"
   ]
  },
  {
   "cell_type": "code",
   "execution_count": 15,
   "id": "31987f45",
   "metadata": {},
   "outputs": [],
   "source": [
    "from sklearn.preprocessing import MinMaxScaler\n",
    "import pandas as pd\n",
    "import numpy as np"
   ]
  },
  {
   "cell_type": "code",
   "execution_count": 2,
   "id": "f8a7f5e7",
   "metadata": {},
   "outputs": [],
   "source": [
    "input_file = \"task1/data/train_2.tsv\"\n",
    "train_df = pd.read_csv(input_file, sep=\"\\t\")"
   ]
  },
  {
   "cell_type": "code",
   "execution_count": 18,
   "id": "8c7fcd79",
   "metadata": {},
   "outputs": [
    {
     "name": "stdout",
     "output_type": "stream",
     "text": [
      "16784\n",
      "16784\n"
     ]
    }
   ],
   "source": [
    "min_max_scaler = MinMaxScaler()\n",
    "price_series = train_df.price\n",
    "print(len(price_series))\n",
    "\n",
    "price_series.dropna(inplace=True)\n",
    "print(len(price_series))\n",
    "price_series = price_series.values.reshape(-1, 1)\n",
    "scaled_price = min_max_scaler.fit_transform(price_series)\n",
    "squeezed_price = np.squeeze(scaled_price)"
   ]
  },
  {
   "cell_type": "code",
   "execution_count": 20,
   "id": "1405bafc",
   "metadata": {},
   "outputs": [],
   "source": [
    "output_df = pd.concat([train_df, pd.Series(squeezed_price, name=\"scaled_description\").to_frame()], axis=1)\n",
    "output_df.to_csv(\"task1/data/train_3.tsv\", sep=\"\\t\", index=False)"
   ]
  },
  {
   "cell_type": "code",
   "execution_count": null,
   "id": "9a251e11",
   "metadata": {},
   "outputs": [],
   "source": []
  }
 ],
 "metadata": {
  "kernelspec": {
   "display_name": "Python 3",
   "language": "python",
   "name": "python3"
  },
  "language_info": {
   "codemirror_mode": {
    "name": "ipython",
    "version": 3
   },
   "file_extension": ".py",
   "mimetype": "text/x-python",
   "name": "python",
   "nbconvert_exporter": "python",
   "pygments_lexer": "ipython3",
   "version": "3.6.9"
  }
 },
 "nbformat": 4,
 "nbformat_minor": 5
}
