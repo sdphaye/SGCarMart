{
 "cells": [
  {
   "cell_type": "code",
   "execution_count": 9,
   "metadata": {},
   "outputs": [],
   "source": [
    "import pandas as pd\n",
    "import numpy as np\n",
    "from datetime import datetime\n",
    "import httpx\n",
    "from bs4 import BeautifulSoup\n",
    "import re\n",
    "import time\n",
    "import constants as const"
   ]
  },
  {
   "cell_type": "code",
   "execution_count": 8,
   "metadata": {},
   "outputs": [],
   "source": [
    "def get_carCode_from_listing(listing_id):\n",
    "    try:\n",
    "        r = httpx.get(\"https://www.sgcarmart.com/used_cars/info.php?ID=\"+str(listing_id))\n",
    "        content = BeautifulSoup(r.content, 'html.parser')\n",
    "        parent = content.find(class_=\"twoRow_info\")\n",
    "        link = parent.parent.find('a')\n",
    "        carCode = re.search(\"CarCode=(.+?)\\\"\",str(link)).group(1).replace(\"'\",\"\")\n",
    "    except Exception as e:\n",
    "#         print(str(e))\n",
    "        carCode = \"MISSING\"\n",
    "#     print(carCode)\n",
    "    return carCode"
   ]
  },
  {
   "cell_type": "code",
   "execution_count": 16,
   "metadata": {},
   "outputs": [],
   "source": [
    "def get_subcode_from_carCode(carCode):\n",
    "    try:\n",
    "        if carCode == \"MISSING\":\n",
    "            return \"MISSING\"\n",
    "        if carCode in subCode_data:\n",
    "            return subCode_data[carCode]\n",
    "        r = httpx.get(\"https://www.sgcarmart.com/new_cars/newcars_specs.php?CarCode=\"+str(carCode))\n",
    "        content = BeautifulSoup(r.content, 'html.parser')\n",
    "        listElement = content.find(id=\"submodels_ul_link\").find_all('a')\n",
    "    except Exception as e:\n",
    "        subCode_data[carCode] = content\n",
    "        return content\n",
    "    subCode_data[carCode] = listElement\n",
    "    return listElement"
   ]
  },
  {
   "cell_type": "code",
   "execution_count": 6,
   "metadata": {},
   "outputs": [],
   "source": [
    "subCode_data ={}"
   ]
  },
  {
   "cell_type": "code",
   "execution_count": null,
   "metadata": {},
   "outputs": [],
   "source": [
    "dic_f ={}\n",
    "def get_fuel_type_only_on_carCode(carCode):\n",
    "    if carCode == \"MISSING\":\n",
    "        return \"NOT\"\n",
    "    try:\n",
    "        if carCode in dic_f:\n",
    "            return dic_f[carCode]\n",
    "        query = \"https://www.sgcarmart.com/new_cars/newcars_specs.php?CarCode=\"+str(carCode)\n",
    "#         +\"&amp;Subcode=\"+str(subCode[0][0])\n",
    "        r = httpx.get(query)\n",
    "#         print(query)\n",
    "        content = BeautifulSoup(r.content, 'html.parser')\n",
    "        fuel_type = content.find('td', text='Fuel type').nextSibling.nextSibling.text\n",
    "        dic_f[carCode] = fuel_type\n",
    "    except Exception as e:\n",
    "        print(query)\n",
    "        fuel_type = \"MISSING\"\n",
    "    \n",
    "    return fuel_type"
   ]
  },
  {
   "cell_type": "code",
   "execution_count": 7,
   "metadata": {},
   "outputs": [],
   "source": [
    "def get_all_carCodes_subCarCodes(dataF):\n",
    "    df = dataF.copy()\n",
    "    df[\"CarCode\"] = df.listing_id.apply(get_carCode_from_listing)\n",
    "    \n",
    "    return df"
   ]
  },
  {
   "cell_type": "code",
   "execution_count": 11,
   "metadata": {},
   "outputs": [],
   "source": [
    "df_tr = pd.read_csv(const.TRAIN_PATH)\n",
    "df_tes = pd.read_csv(const.TEST_PATH)\n",
    "df = pd.concat([df_tr, df_tes], axis=0)"
   ]
  },
  {
   "cell_type": "code",
   "execution_count": null,
   "metadata": {},
   "outputs": [],
   "source": [
    "df[\"CarCode\"] = df.listing_id.apply(get_carCode_from_listing)"
   ]
  }
 ],
 "metadata": {
  "kernelspec": {
   "display_name": "gpu",
   "language": "python",
   "name": "gpu"
  },
  "language_info": {
   "codemirror_mode": {
    "name": "ipython",
    "version": 3
   },
   "file_extension": ".py",
   "mimetype": "text/x-python",
   "name": "python",
   "nbconvert_exporter": "python",
   "pygments_lexer": "ipython3",
   "version": "3.9.7"
  }
 },
 "nbformat": 4,
 "nbformat_minor": 4
}
